{
 "cells": [
  {
   "cell_type": "code",
   "execution_count": 1,
   "metadata": {},
   "outputs": [],
   "source": [
    "import pandas as pd\n",
    "import numpy as np"
   ]
  },
  {
   "cell_type": "code",
   "execution_count": 2,
   "metadata": {},
   "outputs": [],
   "source": [
    "df=pd.read_csv('정상시평균속도.csv')\n",
    "doc=pd.read_excel('정상시평균속도_행정구역_읍면동단위_데이터셋_명세서.xlsx',sheet_name='행정구역')\n",
    "doc_si=doc[['시도코드','시도명칭']]\n",
    "for i in range(doc_si['시도명칭'].nunique()):\n",
    "    df.loc[df[\"sido_code\"] == doc_si['시도코드'].unique()[i] , \"시도\"] = doc_si['시도명칭'].unique()[i]"
   ]
  },
  {
   "cell_type": "code",
   "execution_count": 3,
   "metadata": {},
   "outputs": [
    {
     "data": {
      "text/html": [
       "<div>\n",
       "<style scoped>\n",
       "    .dataframe tbody tr th:only-of-type {\n",
       "        vertical-align: middle;\n",
       "    }\n",
       "\n",
       "    .dataframe tbody tr th {\n",
       "        vertical-align: top;\n",
       "    }\n",
       "\n",
       "    .dataframe thead th {\n",
       "        text-align: right;\n",
       "    }\n",
       "</style>\n",
       "<table border=\"1\" class=\"dataframe\">\n",
       "  <thead>\n",
       "    <tr style=\"text-align: right;\">\n",
       "      <th></th>\n",
       "      <th>sido_code</th>\n",
       "      <th>sigungu_code</th>\n",
       "      <th>emd_code</th>\n",
       "      <th>week_type</th>\n",
       "      <th>velocity_AVRG_NRMLT</th>\n",
       "      <th>시도</th>\n",
       "    </tr>\n",
       "  </thead>\n",
       "  <tbody>\n",
       "    <tr>\n",
       "      <th>1659</th>\n",
       "      <td>11</td>\n",
       "      <td>11150</td>\n",
       "      <td>1115063</td>\n",
       "      <td>weekday</td>\n",
       "      <td>39.98</td>\n",
       "      <td>서울특별시</td>\n",
       "    </tr>\n",
       "    <tr>\n",
       "      <th>2861</th>\n",
       "      <td>11</td>\n",
       "      <td>11090</td>\n",
       "      <td>1109074</td>\n",
       "      <td>weekday</td>\n",
       "      <td>43.75</td>\n",
       "      <td>서울특별시</td>\n",
       "    </tr>\n",
       "    <tr>\n",
       "      <th>992</th>\n",
       "      <td>11</td>\n",
       "      <td>11040</td>\n",
       "      <td>1104054</td>\n",
       "      <td>weekday</td>\n",
       "      <td>45.98</td>\n",
       "      <td>서울특별시</td>\n",
       "    </tr>\n",
       "    <tr>\n",
       "      <th>1616</th>\n",
       "      <td>11</td>\n",
       "      <td>11170</td>\n",
       "      <td>1117071</td>\n",
       "      <td>weekday</td>\n",
       "      <td>47.27</td>\n",
       "      <td>서울특별시</td>\n",
       "    </tr>\n",
       "    <tr>\n",
       "      <th>995</th>\n",
       "      <td>11</td>\n",
       "      <td>11100</td>\n",
       "      <td>1110051</td>\n",
       "      <td>weekday</td>\n",
       "      <td>38.68</td>\n",
       "      <td>서울특별시</td>\n",
       "    </tr>\n",
       "  </tbody>\n",
       "</table>\n",
       "</div>"
      ],
      "text/plain": [
       "      sido_code  sigungu_code  emd_code week_type  velocity_AVRG_NRMLT     시도\n",
       "1659         11         11150   1115063   weekday                39.98  서울특별시\n",
       "2861         11         11090   1109074   weekday                43.75  서울특별시\n",
       "992          11         11040   1104054   weekday                45.98  서울특별시\n",
       "1616         11         11170   1117071   weekday                47.27  서울특별시\n",
       "995          11         11100   1110051   weekday                38.68  서울특별시"
      ]
     },
     "execution_count": 3,
     "metadata": {},
     "output_type": "execute_result"
    }
   ],
   "source": [
    "df=df.sort_values('sido_code')\n",
    "df.head()"
   ]
  },
  {
   "cell_type": "code",
   "execution_count": 4,
   "metadata": {},
   "outputs": [],
   "source": [
    "doc_sigun=doc[(doc['시도명칭']=='서울특별시') | (doc['시도명칭']=='경기도')| (doc['시도명칭']=='인천광역시')]\n",
    "doc_sigun=doc_sigun[['시도명칭','시군구코드','시군구명칭']]"
   ]
  },
  {
   "cell_type": "code",
   "execution_count": 5,
   "metadata": {},
   "outputs": [
    {
     "data": {
      "text/plain": [
       "77"
      ]
     },
     "execution_count": 5,
     "metadata": {},
     "output_type": "execute_result"
    }
   ],
   "source": [
    "doc_sigun['시군구코드'].nunique()"
   ]
  },
  {
   "cell_type": "code",
   "execution_count": 6,
   "metadata": {},
   "outputs": [
    {
     "data": {
      "text/plain": [
       "76"
      ]
     },
     "execution_count": 6,
     "metadata": {},
     "output_type": "execute_result"
    }
   ],
   "source": [
    "doc_sigun['시군구명칭'].nunique()"
   ]
  },
  {
   "cell_type": "code",
   "execution_count": 7,
   "metadata": {},
   "outputs": [
    {
     "name": "stdout",
     "output_type": "stream",
     "text": [
      "[11010, 11020, 11030, 11040, 11050, 11060, 11070, 11080, 11090, 11100, 11110, 11120, 11130, 11140, 11150, 11160, 11170, 11180, 11190, 11200, 11210, 11220, 11230, 11240, 11250, 23010, 23020, 23030, 23040, 23050, 23060, 23070, 23080, 23310, 23320, 31011, 31012, 31013, 31014, 31021, 31022, 31023, 31030, 31041, 31042, 31050, 31060, 31070, 31080, 31091, 31092, 31101, 31103, 31104, 31110, 31120, 31130, 31140, 31150, 31160, 31170, 31180, 31191, 31192, 31193, 31200, 31210, 31220, 31230, 31240, 31250, 31260, 31270, 31280, 31350, 31370, 31380]\n"
     ]
    }
   ],
   "source": [
    "a=[]\n",
    "for i in range(doc_sigun['시군구코드'].nunique()):\n",
    "    a.append(doc_sigun['시군구코드'].unique()[i])\n",
    "print(a)"
   ]
  },
  {
   "cell_type": "code",
   "execution_count": 8,
   "metadata": {},
   "outputs": [
    {
     "name": "stdout",
     "output_type": "stream",
     "text": [
      "['종로구', '중구', '용산구', '성동구', '광진구', '동대문구', '중랑구', '성북구', '강북구', '도봉구', '노원구', '은평구', '서대문구', '마포구', '양천구', '강서구', '구로구', '금천구', '영등포구', '동작구', '관악구', '서초구', '강남구', '송파구', '강동구']\n"
     ]
    }
   ],
   "source": [
    "b=[]\n",
    "for i in range(25):\n",
    "    b.append(doc_sigun['시군구명칭'].unique()[i])\n",
    "print(b)"
   ]
  },
  {
   "cell_type": "code",
   "execution_count": 9,
   "metadata": {},
   "outputs": [
    {
     "name": "stdout",
     "output_type": "stream",
     "text": [
      "['종로구', '중구', '용산구', '성동구', '광진구', '동대문구', '중랑구', '성북구', '강북구', '도봉구', '노원구', '은평구', '서대문구', '마포구', '양천구', '강서구', '구로구', '금천구', '영등포구', '동작구', '관악구', '서초구', '강남구', '송파구', '강동구', '인천_중구', '동구', '남구', '연수구', '남동구', '부평구', '계양구', '서구', '강화군', '옹진군', '수원시 장안구', '수원시 권선구', '수원시 팔달구', '수원시 영통구', '성남시 수정구', '성남시 중원구', '성남시 분당구', '의정부시', '안양시 만안구', '안양시 동안구', '부천시', '광명시', '평택시', '동두천시', '안산시 상록구', '안산시 단원구', '고양시 덕양구', '고양시 일산동구', '고양시 일산서구', '과천시', '구리시', '남양주시', '오산시', '시흥시', '군포시', '의왕시', '하남시', '용인시 처인구', '용인시 기흥구', '용인시 수지구', '파주시', '이천시', '안성시', '김포시', '화성시', '광주시', '양주시', '포천시', '여주시', '연천군', '가평군', '양평군']\n"
     ]
    }
   ],
   "source": [
    "b.append('인천_중구')\n",
    "for i in range(25,76):\n",
    "    b.append(doc_sigun['시군구명칭'].unique()[i])\n",
    "print(b)"
   ]
  },
  {
   "cell_type": "code",
   "execution_count": 10,
   "metadata": {},
   "outputs": [
    {
     "data": {
      "text/html": [
       "<div>\n",
       "<style scoped>\n",
       "    .dataframe tbody tr th:only-of-type {\n",
       "        vertical-align: middle;\n",
       "    }\n",
       "\n",
       "    .dataframe tbody tr th {\n",
       "        vertical-align: top;\n",
       "    }\n",
       "\n",
       "    .dataframe thead th {\n",
       "        text-align: right;\n",
       "    }\n",
       "</style>\n",
       "<table border=\"1\" class=\"dataframe\">\n",
       "  <thead>\n",
       "    <tr style=\"text-align: right;\">\n",
       "      <th></th>\n",
       "      <th>시군구코드</th>\n",
       "      <th>시군구명칭</th>\n",
       "    </tr>\n",
       "  </thead>\n",
       "  <tbody>\n",
       "    <tr>\n",
       "      <th>0</th>\n",
       "      <td>11010</td>\n",
       "      <td>종로구</td>\n",
       "    </tr>\n",
       "    <tr>\n",
       "      <th>1</th>\n",
       "      <td>11020</td>\n",
       "      <td>중구</td>\n",
       "    </tr>\n",
       "    <tr>\n",
       "      <th>2</th>\n",
       "      <td>11030</td>\n",
       "      <td>용산구</td>\n",
       "    </tr>\n",
       "    <tr>\n",
       "      <th>3</th>\n",
       "      <td>11040</td>\n",
       "      <td>성동구</td>\n",
       "    </tr>\n",
       "    <tr>\n",
       "      <th>4</th>\n",
       "      <td>11050</td>\n",
       "      <td>광진구</td>\n",
       "    </tr>\n",
       "    <tr>\n",
       "      <th>...</th>\n",
       "      <td>...</td>\n",
       "      <td>...</td>\n",
       "    </tr>\n",
       "    <tr>\n",
       "      <th>72</th>\n",
       "      <td>31270</td>\n",
       "      <td>포천시</td>\n",
       "    </tr>\n",
       "    <tr>\n",
       "      <th>73</th>\n",
       "      <td>31280</td>\n",
       "      <td>여주시</td>\n",
       "    </tr>\n",
       "    <tr>\n",
       "      <th>74</th>\n",
       "      <td>31350</td>\n",
       "      <td>연천군</td>\n",
       "    </tr>\n",
       "    <tr>\n",
       "      <th>75</th>\n",
       "      <td>31370</td>\n",
       "      <td>가평군</td>\n",
       "    </tr>\n",
       "    <tr>\n",
       "      <th>76</th>\n",
       "      <td>31380</td>\n",
       "      <td>양평군</td>\n",
       "    </tr>\n",
       "  </tbody>\n",
       "</table>\n",
       "<p>77 rows × 2 columns</p>\n",
       "</div>"
      ],
      "text/plain": [
       "    시군구코드 시군구명칭\n",
       "0   11010   종로구\n",
       "1   11020    중구\n",
       "2   11030   용산구\n",
       "3   11040   성동구\n",
       "4   11050   광진구\n",
       "..    ...   ...\n",
       "72  31270   포천시\n",
       "73  31280   여주시\n",
       "74  31350   연천군\n",
       "75  31370   가평군\n",
       "76  31380   양평군\n",
       "\n",
       "[77 rows x 2 columns]"
      ]
     },
     "execution_count": 10,
     "metadata": {},
     "output_type": "execute_result"
    }
   ],
   "source": [
    "sigun=pd.DataFrame({'시군구코드':a,'시군구명칭':b})\n",
    "sigun"
   ]
  },
  {
   "cell_type": "code",
   "execution_count": 11,
   "metadata": {},
   "outputs": [
    {
     "data": {
      "text/html": [
       "<div>\n",
       "<style scoped>\n",
       "    .dataframe tbody tr th:only-of-type {\n",
       "        vertical-align: middle;\n",
       "    }\n",
       "\n",
       "    .dataframe tbody tr th {\n",
       "        vertical-align: top;\n",
       "    }\n",
       "\n",
       "    .dataframe thead th {\n",
       "        text-align: right;\n",
       "    }\n",
       "</style>\n",
       "<table border=\"1\" class=\"dataframe\">\n",
       "  <thead>\n",
       "    <tr style=\"text-align: right;\">\n",
       "      <th></th>\n",
       "      <th>sido_code</th>\n",
       "      <th>sigungu_code</th>\n",
       "      <th>emd_code</th>\n",
       "      <th>week_type</th>\n",
       "      <th>velocity_AVRG_NRMLT</th>\n",
       "      <th>시도</th>\n",
       "      <th>시군구</th>\n",
       "    </tr>\n",
       "  </thead>\n",
       "  <tbody>\n",
       "    <tr>\n",
       "      <th>1659</th>\n",
       "      <td>11</td>\n",
       "      <td>11150</td>\n",
       "      <td>1115063</td>\n",
       "      <td>weekday</td>\n",
       "      <td>39.98</td>\n",
       "      <td>서울특별시</td>\n",
       "      <td>양천구</td>\n",
       "    </tr>\n",
       "    <tr>\n",
       "      <th>2861</th>\n",
       "      <td>11</td>\n",
       "      <td>11090</td>\n",
       "      <td>1109074</td>\n",
       "      <td>weekday</td>\n",
       "      <td>43.75</td>\n",
       "      <td>서울특별시</td>\n",
       "      <td>강북구</td>\n",
       "    </tr>\n",
       "    <tr>\n",
       "      <th>992</th>\n",
       "      <td>11</td>\n",
       "      <td>11040</td>\n",
       "      <td>1104054</td>\n",
       "      <td>weekday</td>\n",
       "      <td>45.98</td>\n",
       "      <td>서울특별시</td>\n",
       "      <td>성동구</td>\n",
       "    </tr>\n",
       "    <tr>\n",
       "      <th>1616</th>\n",
       "      <td>11</td>\n",
       "      <td>11170</td>\n",
       "      <td>1117071</td>\n",
       "      <td>weekday</td>\n",
       "      <td>47.27</td>\n",
       "      <td>서울특별시</td>\n",
       "      <td>구로구</td>\n",
       "    </tr>\n",
       "    <tr>\n",
       "      <th>995</th>\n",
       "      <td>11</td>\n",
       "      <td>11100</td>\n",
       "      <td>1110051</td>\n",
       "      <td>weekday</td>\n",
       "      <td>38.68</td>\n",
       "      <td>서울특별시</td>\n",
       "      <td>도봉구</td>\n",
       "    </tr>\n",
       "    <tr>\n",
       "      <th>...</th>\n",
       "      <td>...</td>\n",
       "      <td>...</td>\n",
       "      <td>...</td>\n",
       "      <td>...</td>\n",
       "      <td>...</td>\n",
       "      <td>...</td>\n",
       "      <td>...</td>\n",
       "    </tr>\n",
       "    <tr>\n",
       "      <th>464</th>\n",
       "      <td>31</td>\n",
       "      <td>31023</td>\n",
       "      <td>3102377</td>\n",
       "      <td>weekday</td>\n",
       "      <td>50.60</td>\n",
       "      <td>경기도</td>\n",
       "      <td>성남시 분당구</td>\n",
       "    </tr>\n",
       "    <tr>\n",
       "      <th>1483</th>\n",
       "      <td>31</td>\n",
       "      <td>31013</td>\n",
       "      <td>3101367</td>\n",
       "      <td>weekday</td>\n",
       "      <td>40.14</td>\n",
       "      <td>경기도</td>\n",
       "      <td>수원시 팔달구</td>\n",
       "    </tr>\n",
       "    <tr>\n",
       "      <th>462</th>\n",
       "      <td>31</td>\n",
       "      <td>31042</td>\n",
       "      <td>3104265</td>\n",
       "      <td>weekday</td>\n",
       "      <td>39.48</td>\n",
       "      <td>경기도</td>\n",
       "      <td>안양시 동안구</td>\n",
       "    </tr>\n",
       "    <tr>\n",
       "      <th>55</th>\n",
       "      <td>31</td>\n",
       "      <td>31103</td>\n",
       "      <td>3110355</td>\n",
       "      <td>weekday</td>\n",
       "      <td>43.89</td>\n",
       "      <td>경기도</td>\n",
       "      <td>고양시 일산동구</td>\n",
       "    </tr>\n",
       "    <tr>\n",
       "      <th>1491</th>\n",
       "      <td>31</td>\n",
       "      <td>31130</td>\n",
       "      <td>3113032</td>\n",
       "      <td>weekday</td>\n",
       "      <td>45.60</td>\n",
       "      <td>경기도</td>\n",
       "      <td>남양주시</td>\n",
       "    </tr>\n",
       "  </tbody>\n",
       "</table>\n",
       "<p>1129 rows × 7 columns</p>\n",
       "</div>"
      ],
      "text/plain": [
       "      sido_code  sigungu_code  emd_code week_type  velocity_AVRG_NRMLT     시도  \\\n",
       "1659         11         11150   1115063   weekday                39.98  서울특별시   \n",
       "2861         11         11090   1109074   weekday                43.75  서울특별시   \n",
       "992          11         11040   1104054   weekday                45.98  서울특별시   \n",
       "1616         11         11170   1117071   weekday                47.27  서울특별시   \n",
       "995          11         11100   1110051   weekday                38.68  서울특별시   \n",
       "...         ...           ...       ...       ...                  ...    ...   \n",
       "464          31         31023   3102377   weekday                50.60    경기도   \n",
       "1483         31         31013   3101367   weekday                40.14    경기도   \n",
       "462          31         31042   3104265   weekday                39.48    경기도   \n",
       "55           31         31103   3110355   weekday                43.89    경기도   \n",
       "1491         31         31130   3113032   weekday                45.60    경기도   \n",
       "\n",
       "           시군구  \n",
       "1659       양천구  \n",
       "2861       강북구  \n",
       "992        성동구  \n",
       "1616       구로구  \n",
       "995        도봉구  \n",
       "...        ...  \n",
       "464    성남시 분당구  \n",
       "1483   수원시 팔달구  \n",
       "462    안양시 동안구  \n",
       "55    고양시 일산동구  \n",
       "1491      남양주시  \n",
       "\n",
       "[1129 rows x 7 columns]"
      ]
     },
     "execution_count": 11,
     "metadata": {},
     "output_type": "execute_result"
    }
   ],
   "source": [
    "for i in range(sigun['시군구코드'].nunique()):\n",
    "    df.loc[df[\"sigungu_code\"] == sigun['시군구코드'].unique()[i] , \"시군구\"] = sigun['시군구명칭'].unique()[i]\n",
    "    \n",
    "df=df[(df['시도']=='서울특별시') | (df['시도']=='경기도')| (df['시도']=='인천광역시')]\n",
    "df"
   ]
  },
  {
   "cell_type": "code",
   "execution_count": 12,
   "metadata": {},
   "outputs": [],
   "source": [
    "df.to_csv('수도권 정상시평균속도.csv',encoding='utf-8-sig',index=False)"
   ]
  }
 ],
 "metadata": {
  "kernelspec": {
   "display_name": "Python 3",
   "language": "python",
   "name": "python3"
  },
  "language_info": {
   "codemirror_mode": {
    "name": "ipython",
    "version": 3
   },
   "file_extension": ".py",
   "mimetype": "text/x-python",
   "name": "python",
   "nbconvert_exporter": "python",
   "pygments_lexer": "ipython3",
   "version": "3.8.5"
  }
 },
 "nbformat": 4,
 "nbformat_minor": 4
}
