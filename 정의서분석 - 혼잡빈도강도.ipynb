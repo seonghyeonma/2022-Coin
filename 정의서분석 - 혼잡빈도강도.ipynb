{
 "cells": [
  {
   "cell_type": "code",
   "execution_count": 1,
   "metadata": {},
   "outputs": [],
   "source": [
    "import pandas as pd\n",
    "import numpy as np"
   ]
  },
  {
   "cell_type": "code",
   "execution_count": 2,
   "metadata": {},
   "outputs": [
    {
     "data": {
      "text/html": [
       "<div>\n",
       "<style scoped>\n",
       "    .dataframe tbody tr th:only-of-type {\n",
       "        vertical-align: middle;\n",
       "    }\n",
       "\n",
       "    .dataframe tbody tr th {\n",
       "        vertical-align: top;\n",
       "    }\n",
       "\n",
       "    .dataframe thead th {\n",
       "        text-align: right;\n",
       "    }\n",
       "</style>\n",
       "<table border=\"1\" class=\"dataframe\">\n",
       "  <thead>\n",
       "    <tr style=\"text-align: right;\">\n",
       "      <th></th>\n",
       "      <th>sido_code</th>\n",
       "      <th>sigungu_code</th>\n",
       "      <th>emd_code</th>\n",
       "      <th>week_type</th>\n",
       "      <th>FRIN_CG</th>\n",
       "    </tr>\n",
       "  </thead>\n",
       "  <tbody>\n",
       "    <tr>\n",
       "      <th>0</th>\n",
       "      <td>31</td>\n",
       "      <td>31070</td>\n",
       "      <td>3107033</td>\n",
       "      <td>weekday</td>\n",
       "      <td>44.58</td>\n",
       "    </tr>\n",
       "    <tr>\n",
       "      <th>1</th>\n",
       "      <td>38</td>\n",
       "      <td>38111</td>\n",
       "      <td>3811153</td>\n",
       "      <td>weekday</td>\n",
       "      <td>37.06</td>\n",
       "    </tr>\n",
       "    <tr>\n",
       "      <th>2</th>\n",
       "      <td>35</td>\n",
       "      <td>35310</td>\n",
       "      <td>3531039</td>\n",
       "      <td>weekday</td>\n",
       "      <td>51.77</td>\n",
       "    </tr>\n",
       "    <tr>\n",
       "      <th>3</th>\n",
       "      <td>21</td>\n",
       "      <td>21100</td>\n",
       "      <td>2110066</td>\n",
       "      <td>weekday</td>\n",
       "      <td>59.85</td>\n",
       "    </tr>\n",
       "    <tr>\n",
       "      <th>4</th>\n",
       "      <td>37</td>\n",
       "      <td>37360</td>\n",
       "      <td>3736037</td>\n",
       "      <td>weekday</td>\n",
       "      <td>69.85</td>\n",
       "    </tr>\n",
       "  </tbody>\n",
       "</table>\n",
       "</div>"
      ],
      "text/plain": [
       "   sido_code  sigungu_code  emd_code week_type  FRIN_CG\n",
       "0         31         31070   3107033   weekday    44.58\n",
       "1         38         38111   3811153   weekday    37.06\n",
       "2         35         35310   3531039   weekday    51.77\n",
       "3         21         21100   2110066   weekday    59.85\n",
       "4         37         37360   3736037   weekday    69.85"
      ]
     },
     "execution_count": 2,
     "metadata": {},
     "output_type": "execute_result"
    }
   ],
   "source": [
    "# 혼자빈도강도\n",
    "df=pd.read_csv('혼잡빈도강도.csv')\n",
    "df.head()"
   ]
  },
  {
   "cell_type": "code",
   "execution_count": 3,
   "metadata": {},
   "outputs": [],
   "source": [
    "doc=pd.read_excel('혼잡빈도강도_행정구역_읍면동단위_데이터셋_명세서.xlsx',sheet_name='행정구역')"
   ]
  },
  {
   "cell_type": "code",
   "execution_count": 4,
   "metadata": {},
   "outputs": [
    {
     "data": {
      "text/html": [
       "<div>\n",
       "<style scoped>\n",
       "    .dataframe tbody tr th:only-of-type {\n",
       "        vertical-align: middle;\n",
       "    }\n",
       "\n",
       "    .dataframe tbody tr th {\n",
       "        vertical-align: top;\n",
       "    }\n",
       "\n",
       "    .dataframe thead th {\n",
       "        text-align: right;\n",
       "    }\n",
       "</style>\n",
       "<table border=\"1\" class=\"dataframe\">\n",
       "  <thead>\n",
       "    <tr style=\"text-align: right;\">\n",
       "      <th></th>\n",
       "      <th>시도코드</th>\n",
       "      <th>시도명칭</th>\n",
       "    </tr>\n",
       "  </thead>\n",
       "  <tbody>\n",
       "    <tr>\n",
       "      <th>0</th>\n",
       "      <td>11</td>\n",
       "      <td>서울특별시</td>\n",
       "    </tr>\n",
       "    <tr>\n",
       "      <th>1</th>\n",
       "      <td>11</td>\n",
       "      <td>서울특별시</td>\n",
       "    </tr>\n",
       "    <tr>\n",
       "      <th>2</th>\n",
       "      <td>11</td>\n",
       "      <td>서울특별시</td>\n",
       "    </tr>\n",
       "    <tr>\n",
       "      <th>3</th>\n",
       "      <td>11</td>\n",
       "      <td>서울특별시</td>\n",
       "    </tr>\n",
       "    <tr>\n",
       "      <th>4</th>\n",
       "      <td>11</td>\n",
       "      <td>서울특별시</td>\n",
       "    </tr>\n",
       "  </tbody>\n",
       "</table>\n",
       "</div>"
      ],
      "text/plain": [
       "   시도코드   시도명칭\n",
       "0    11  서울특별시\n",
       "1    11  서울특별시\n",
       "2    11  서울특별시\n",
       "3    11  서울특별시\n",
       "4    11  서울특별시"
      ]
     },
     "execution_count": 4,
     "metadata": {},
     "output_type": "execute_result"
    }
   ],
   "source": [
    "# 시도코드, 시도명칭만 가져오기\n",
    "doc_si=doc[['시도코드','시도명칭']]\n",
    "doc_si.head()"
   ]
  },
  {
   "cell_type": "code",
   "execution_count": 5,
   "metadata": {},
   "outputs": [
    {
     "data": {
      "text/plain": [
       "array(['서울특별시', '부산광역시', '대구광역시', '인천광역시', '광주광역시', '대전광역시', '울산광역시',\n",
       "       '세종특별자치시', '경기도', '강원도', '충청북도', '충청남도', '전라북도', '전라남도', '경상북도',\n",
       "       '경상남도', '제주특별자치도'], dtype=object)"
      ]
     },
     "execution_count": 5,
     "metadata": {},
     "output_type": "execute_result"
    }
   ],
   "source": [
    "doc_si['시도명칭'].unique()"
   ]
  },
  {
   "cell_type": "code",
   "execution_count": 6,
   "metadata": {},
   "outputs": [
    {
     "data": {
      "text/plain": [
       "array([11, 21, 22, 23, 24, 25, 26, 29, 31, 32, 33, 34, 35, 36, 37, 38, 39],\n",
       "      dtype=int64)"
      ]
     },
     "execution_count": 6,
     "metadata": {},
     "output_type": "execute_result"
    }
   ],
   "source": [
    "doc_si['시도코드'].unique()"
   ]
  },
  {
   "cell_type": "code",
   "execution_count": 7,
   "metadata": {},
   "outputs": [],
   "source": [
    "for i in range(doc_si['시도명칭'].nunique()):\n",
    "    df.loc[df[\"sido_code\"] == doc_si['시도코드'].unique()[i] , \"시도\"] = doc_si['시도명칭'].unique()[i]"
   ]
  },
  {
   "cell_type": "code",
   "execution_count": 8,
   "metadata": {},
   "outputs": [
    {
     "data": {
      "text/html": [
       "<div>\n",
       "<style scoped>\n",
       "    .dataframe tbody tr th:only-of-type {\n",
       "        vertical-align: middle;\n",
       "    }\n",
       "\n",
       "    .dataframe tbody tr th {\n",
       "        vertical-align: top;\n",
       "    }\n",
       "\n",
       "    .dataframe thead th {\n",
       "        text-align: right;\n",
       "    }\n",
       "</style>\n",
       "<table border=\"1\" class=\"dataframe\">\n",
       "  <thead>\n",
       "    <tr style=\"text-align: right;\">\n",
       "      <th></th>\n",
       "      <th>sido_code</th>\n",
       "      <th>sigungu_code</th>\n",
       "      <th>emd_code</th>\n",
       "      <th>week_type</th>\n",
       "      <th>FRIN_CG</th>\n",
       "      <th>시도</th>\n",
       "    </tr>\n",
       "  </thead>\n",
       "  <tbody>\n",
       "    <tr>\n",
       "      <th>2593</th>\n",
       "      <td>11</td>\n",
       "      <td>11020</td>\n",
       "      <td>1102054</td>\n",
       "      <td>weekday</td>\n",
       "      <td>43.02</td>\n",
       "      <td>서울특별시</td>\n",
       "    </tr>\n",
       "    <tr>\n",
       "      <th>326</th>\n",
       "      <td>11</td>\n",
       "      <td>11170</td>\n",
       "      <td>1117065</td>\n",
       "      <td>weekday</td>\n",
       "      <td>55.68</td>\n",
       "      <td>서울특별시</td>\n",
       "    </tr>\n",
       "    <tr>\n",
       "      <th>2990</th>\n",
       "      <td>11</td>\n",
       "      <td>11130</td>\n",
       "      <td>1113065</td>\n",
       "      <td>weekday</td>\n",
       "      <td>32.66</td>\n",
       "      <td>서울특별시</td>\n",
       "    </tr>\n",
       "    <tr>\n",
       "      <th>2991</th>\n",
       "      <td>11</td>\n",
       "      <td>11020</td>\n",
       "      <td>1102055</td>\n",
       "      <td>weekday</td>\n",
       "      <td>46.42</td>\n",
       "      <td>서울특별시</td>\n",
       "    </tr>\n",
       "    <tr>\n",
       "      <th>2993</th>\n",
       "      <td>11</td>\n",
       "      <td>11200</td>\n",
       "      <td>1120063</td>\n",
       "      <td>weekday</td>\n",
       "      <td>38.48</td>\n",
       "      <td>서울특별시</td>\n",
       "    </tr>\n",
       "  </tbody>\n",
       "</table>\n",
       "</div>"
      ],
      "text/plain": [
       "      sido_code  sigungu_code  emd_code week_type  FRIN_CG     시도\n",
       "2593         11         11020   1102054   weekday    43.02  서울특별시\n",
       "326          11         11170   1117065   weekday    55.68  서울특별시\n",
       "2990         11         11130   1113065   weekday    32.66  서울특별시\n",
       "2991         11         11020   1102055   weekday    46.42  서울특별시\n",
       "2993         11         11200   1120063   weekday    38.48  서울특별시"
      ]
     },
     "execution_count": 8,
     "metadata": {},
     "output_type": "execute_result"
    }
   ],
   "source": [
    "df=df.sort_values('sido_code')\n",
    "df.head()"
   ]
  },
  {
   "cell_type": "code",
   "execution_count": 9,
   "metadata": {},
   "outputs": [
    {
     "data": {
      "text/html": [
       "<div>\n",
       "<style scoped>\n",
       "    .dataframe tbody tr th:only-of-type {\n",
       "        vertical-align: middle;\n",
       "    }\n",
       "\n",
       "    .dataframe tbody tr th {\n",
       "        vertical-align: top;\n",
       "    }\n",
       "\n",
       "    .dataframe thead th {\n",
       "        text-align: right;\n",
       "    }\n",
       "</style>\n",
       "<table border=\"1\" class=\"dataframe\">\n",
       "  <thead>\n",
       "    <tr style=\"text-align: right;\">\n",
       "      <th></th>\n",
       "      <th>시도명칭</th>\n",
       "      <th>시군구코드</th>\n",
       "      <th>시군구명칭</th>\n",
       "    </tr>\n",
       "  </thead>\n",
       "  <tbody>\n",
       "    <tr>\n",
       "      <th>0</th>\n",
       "      <td>서울특별시</td>\n",
       "      <td>11010</td>\n",
       "      <td>종로구</td>\n",
       "    </tr>\n",
       "    <tr>\n",
       "      <th>1</th>\n",
       "      <td>서울특별시</td>\n",
       "      <td>11010</td>\n",
       "      <td>종로구</td>\n",
       "    </tr>\n",
       "    <tr>\n",
       "      <th>2</th>\n",
       "      <td>서울특별시</td>\n",
       "      <td>11010</td>\n",
       "      <td>종로구</td>\n",
       "    </tr>\n",
       "    <tr>\n",
       "      <th>3</th>\n",
       "      <td>서울특별시</td>\n",
       "      <td>11010</td>\n",
       "      <td>종로구</td>\n",
       "    </tr>\n",
       "    <tr>\n",
       "      <th>4</th>\n",
       "      <td>서울특별시</td>\n",
       "      <td>11010</td>\n",
       "      <td>종로구</td>\n",
       "    </tr>\n",
       "  </tbody>\n",
       "</table>\n",
       "</div>"
      ],
      "text/plain": [
       "    시도명칭  시군구코드 시군구명칭\n",
       "0  서울특별시  11010   종로구\n",
       "1  서울특별시  11010   종로구\n",
       "2  서울특별시  11010   종로구\n",
       "3  서울특별시  11010   종로구\n",
       "4  서울특별시  11010   종로구"
      ]
     },
     "execution_count": 9,
     "metadata": {},
     "output_type": "execute_result"
    }
   ],
   "source": [
    "doc_sigun=doc[['시도명칭','시군구코드','시군구명칭']]\n",
    "doc_sigun.head()"
   ]
  },
  {
   "cell_type": "code",
   "execution_count": 10,
   "metadata": {},
   "outputs": [],
   "source": [
    "doc_sigun=doc[(doc['시도명칭']=='서울특별시') | (doc['시도명칭']=='경기도')| (doc['시도명칭']=='인천광역시')]"
   ]
  },
  {
   "cell_type": "code",
   "execution_count": 11,
   "metadata": {},
   "outputs": [
    {
     "data": {
      "text/html": [
       "<div>\n",
       "<style scoped>\n",
       "    .dataframe tbody tr th:only-of-type {\n",
       "        vertical-align: middle;\n",
       "    }\n",
       "\n",
       "    .dataframe tbody tr th {\n",
       "        vertical-align: top;\n",
       "    }\n",
       "\n",
       "    .dataframe thead th {\n",
       "        text-align: right;\n",
       "    }\n",
       "</style>\n",
       "<table border=\"1\" class=\"dataframe\">\n",
       "  <thead>\n",
       "    <tr style=\"text-align: right;\">\n",
       "      <th></th>\n",
       "      <th>시도코드</th>\n",
       "      <th>시도명칭</th>\n",
       "      <th>시군구코드</th>\n",
       "      <th>시군구명칭</th>\n",
       "      <th>읍면동코드</th>\n",
       "      <th>읍면동명칭</th>\n",
       "    </tr>\n",
       "  </thead>\n",
       "  <tbody>\n",
       "    <tr>\n",
       "      <th>0</th>\n",
       "      <td>11</td>\n",
       "      <td>서울특별시</td>\n",
       "      <td>11010</td>\n",
       "      <td>종로구</td>\n",
       "      <td>1101053</td>\n",
       "      <td>사직동</td>\n",
       "    </tr>\n",
       "    <tr>\n",
       "      <th>1</th>\n",
       "      <td>11</td>\n",
       "      <td>서울특별시</td>\n",
       "      <td>11010</td>\n",
       "      <td>종로구</td>\n",
       "      <td>1101054</td>\n",
       "      <td>삼청동</td>\n",
       "    </tr>\n",
       "    <tr>\n",
       "      <th>2</th>\n",
       "      <td>11</td>\n",
       "      <td>서울특별시</td>\n",
       "      <td>11010</td>\n",
       "      <td>종로구</td>\n",
       "      <td>1101055</td>\n",
       "      <td>부암동</td>\n",
       "    </tr>\n",
       "    <tr>\n",
       "      <th>3</th>\n",
       "      <td>11</td>\n",
       "      <td>서울특별시</td>\n",
       "      <td>11010</td>\n",
       "      <td>종로구</td>\n",
       "      <td>1101056</td>\n",
       "      <td>평창동</td>\n",
       "    </tr>\n",
       "    <tr>\n",
       "      <th>4</th>\n",
       "      <td>11</td>\n",
       "      <td>서울특별시</td>\n",
       "      <td>11010</td>\n",
       "      <td>종로구</td>\n",
       "      <td>1101057</td>\n",
       "      <td>무악동</td>\n",
       "    </tr>\n",
       "    <tr>\n",
       "      <th>...</th>\n",
       "      <td>...</td>\n",
       "      <td>...</td>\n",
       "      <td>...</td>\n",
       "      <td>...</td>\n",
       "      <td>...</td>\n",
       "      <td>...</td>\n",
       "    </tr>\n",
       "    <tr>\n",
       "      <th>1725</th>\n",
       "      <td>31</td>\n",
       "      <td>경기도</td>\n",
       "      <td>31380</td>\n",
       "      <td>양평군</td>\n",
       "      <td>3138037</td>\n",
       "      <td>청운면</td>\n",
       "    </tr>\n",
       "    <tr>\n",
       "      <th>1726</th>\n",
       "      <td>31</td>\n",
       "      <td>경기도</td>\n",
       "      <td>31380</td>\n",
       "      <td>양평군</td>\n",
       "      <td>3138038</td>\n",
       "      <td>양동면</td>\n",
       "    </tr>\n",
       "    <tr>\n",
       "      <th>1727</th>\n",
       "      <td>31</td>\n",
       "      <td>경기도</td>\n",
       "      <td>31380</td>\n",
       "      <td>양평군</td>\n",
       "      <td>3138039</td>\n",
       "      <td>지평면</td>\n",
       "    </tr>\n",
       "    <tr>\n",
       "      <th>1728</th>\n",
       "      <td>31</td>\n",
       "      <td>경기도</td>\n",
       "      <td>31380</td>\n",
       "      <td>양평군</td>\n",
       "      <td>3138040</td>\n",
       "      <td>용문면</td>\n",
       "    </tr>\n",
       "    <tr>\n",
       "      <th>1729</th>\n",
       "      <td>31</td>\n",
       "      <td>경기도</td>\n",
       "      <td>31380</td>\n",
       "      <td>양평군</td>\n",
       "      <td>3138041</td>\n",
       "      <td>개군면</td>\n",
       "    </tr>\n",
       "  </tbody>\n",
       "</table>\n",
       "<p>1138 rows × 6 columns</p>\n",
       "</div>"
      ],
      "text/plain": [
       "      시도코드   시도명칭  시군구코드 시군구명칭    읍면동코드 읍면동명칭\n",
       "0       11  서울특별시  11010   종로구  1101053   사직동\n",
       "1       11  서울특별시  11010   종로구  1101054   삼청동\n",
       "2       11  서울특별시  11010   종로구  1101055   부암동\n",
       "3       11  서울특별시  11010   종로구  1101056   평창동\n",
       "4       11  서울특별시  11010   종로구  1101057   무악동\n",
       "...    ...    ...    ...   ...      ...   ...\n",
       "1725    31    경기도  31380   양평군  3138037   청운면\n",
       "1726    31    경기도  31380   양평군  3138038   양동면\n",
       "1727    31    경기도  31380   양평군  3138039   지평면\n",
       "1728    31    경기도  31380   양평군  3138040   용문면\n",
       "1729    31    경기도  31380   양평군  3138041   개군면\n",
       "\n",
       "[1138 rows x 6 columns]"
      ]
     },
     "execution_count": 11,
     "metadata": {},
     "output_type": "execute_result"
    }
   ],
   "source": [
    "doc_sigun"
   ]
  },
  {
   "cell_type": "code",
   "execution_count": 12,
   "metadata": {},
   "outputs": [],
   "source": [
    "doc_sigun=doc_sigun[['시도명칭','시군구코드','시군구명칭']]"
   ]
  },
  {
   "cell_type": "code",
   "execution_count": 13,
   "metadata": {},
   "outputs": [
    {
     "data": {
      "text/plain": [
       "11010"
      ]
     },
     "execution_count": 13,
     "metadata": {},
     "output_type": "execute_result"
    }
   ],
   "source": [
    "doc_sigun['시군구코드'].unique()[0]"
   ]
  },
  {
   "cell_type": "code",
   "execution_count": 14,
   "metadata": {},
   "outputs": [
    {
     "data": {
      "text/plain": [
       "77"
      ]
     },
     "execution_count": 14,
     "metadata": {},
     "output_type": "execute_result"
    }
   ],
   "source": [
    "doc_sigun['시군구코드'].nunique()"
   ]
  },
  {
   "cell_type": "code",
   "execution_count": 15,
   "metadata": {},
   "outputs": [
    {
     "data": {
      "text/plain": [
       "76"
      ]
     },
     "execution_count": 15,
     "metadata": {},
     "output_type": "execute_result"
    }
   ],
   "source": [
    "doc_sigun['시군구명칭'].nunique()"
   ]
  },
  {
   "cell_type": "code",
   "execution_count": 16,
   "metadata": {},
   "outputs": [
    {
     "data": {
      "text/plain": [
       "23010"
      ]
     },
     "execution_count": 16,
     "metadata": {},
     "output_type": "execute_result"
    }
   ],
   "source": [
    "doc_sigun['시군구코드'].unique()[25]"
   ]
  },
  {
   "cell_type": "code",
   "execution_count": 17,
   "metadata": {},
   "outputs": [
    {
     "name": "stdout",
     "output_type": "stream",
     "text": [
      "[11010, 11020, 11030, 11040, 11050, 11060, 11070, 11080, 11090, 11100, 11110, 11120, 11130, 11140, 11150, 11160, 11170, 11180, 11190, 11200, 11210, 11220, 11230, 11240, 11250, 23010, 23020, 23030, 23040, 23050, 23060, 23070, 23080, 23310, 23320, 31011, 31012, 31013, 31014, 31021, 31022, 31023, 31030, 31041, 31042, 31050, 31060, 31070, 31080, 31091, 31092, 31101, 31103, 31104, 31110, 31120, 31130, 31140, 31150, 31160, 31170, 31180, 31191, 31192, 31193, 31200, 31210, 31220, 31230, 31240, 31250, 31260, 31270, 31280, 31350, 31370, 31380]\n"
     ]
    }
   ],
   "source": [
    "a=[]\n",
    "for i in range(doc_sigun['시군구코드'].nunique()):\n",
    "    a.append(doc_sigun['시군구코드'].unique()[i])\n",
    "print(a)"
   ]
  },
  {
   "cell_type": "code",
   "execution_count": 18,
   "metadata": {},
   "outputs": [
    {
     "name": "stdout",
     "output_type": "stream",
     "text": [
      "['종로구', '중구', '용산구', '성동구', '광진구', '동대문구', '중랑구', '성북구', '강북구', '도봉구', '노원구', '은평구', '서대문구', '마포구', '양천구', '강서구', '구로구', '금천구', '영등포구', '동작구', '관악구', '서초구', '강남구', '송파구', '강동구']\n"
     ]
    }
   ],
   "source": [
    "b=[]\n",
    "for i in range(25):\n",
    "    b.append(doc_sigun['시군구명칭'].unique()[i])\n",
    "print(b)"
   ]
  },
  {
   "cell_type": "code",
   "execution_count": 19,
   "metadata": {},
   "outputs": [
    {
     "name": "stdout",
     "output_type": "stream",
     "text": [
      "['종로구', '중구', '용산구', '성동구', '광진구', '동대문구', '중랑구', '성북구', '강북구', '도봉구', '노원구', '은평구', '서대문구', '마포구', '양천구', '강서구', '구로구', '금천구', '영등포구', '동작구', '관악구', '서초구', '강남구', '송파구', '강동구', '인천_중구', '동구', '남구', '연수구', '남동구', '부평구', '계양구', '서구', '강화군', '옹진군', '수원시 장안구', '수원시 권선구', '수원시 팔달구', '수원시 영통구', '성남시 수정구', '성남시 중원구', '성남시 분당구', '의정부시', '안양시 만안구', '안양시 동안구', '부천시', '광명시', '평택시', '동두천시', '안산시 상록구', '안산시 단원구', '고양시 덕양구', '고양시 일산동구', '고양시 일산서구', '과천시', '구리시', '남양주시', '오산시', '시흥시', '군포시', '의왕시', '하남시', '용인시 처인구', '용인시 기흥구', '용인시 수지구', '파주시', '이천시', '안성시', '김포시', '화성시', '광주시', '양주시', '포천시', '여주시', '연천군', '가평군', '양평군']\n"
     ]
    }
   ],
   "source": [
    "b.append('인천_중구')\n",
    "for i in range(25,76):\n",
    "    b.append(doc_sigun['시군구명칭'].unique()[i])\n",
    "print(b)"
   ]
  },
  {
   "cell_type": "code",
   "execution_count": 20,
   "metadata": {},
   "outputs": [
    {
     "data": {
      "text/plain": [
       "77"
      ]
     },
     "execution_count": 20,
     "metadata": {},
     "output_type": "execute_result"
    }
   ],
   "source": [
    "len(a)"
   ]
  },
  {
   "cell_type": "code",
   "execution_count": 21,
   "metadata": {},
   "outputs": [
    {
     "data": {
      "text/plain": [
       "77"
      ]
     },
     "execution_count": 21,
     "metadata": {},
     "output_type": "execute_result"
    }
   ],
   "source": [
    "len(b)"
   ]
  },
  {
   "cell_type": "code",
   "execution_count": 22,
   "metadata": {},
   "outputs": [
    {
     "data": {
      "text/html": [
       "<div>\n",
       "<style scoped>\n",
       "    .dataframe tbody tr th:only-of-type {\n",
       "        vertical-align: middle;\n",
       "    }\n",
       "\n",
       "    .dataframe tbody tr th {\n",
       "        vertical-align: top;\n",
       "    }\n",
       "\n",
       "    .dataframe thead th {\n",
       "        text-align: right;\n",
       "    }\n",
       "</style>\n",
       "<table border=\"1\" class=\"dataframe\">\n",
       "  <thead>\n",
       "    <tr style=\"text-align: right;\">\n",
       "      <th></th>\n",
       "      <th>시군구코드</th>\n",
       "      <th>시군구명칭</th>\n",
       "    </tr>\n",
       "  </thead>\n",
       "  <tbody>\n",
       "    <tr>\n",
       "      <th>0</th>\n",
       "      <td>11010</td>\n",
       "      <td>종로구</td>\n",
       "    </tr>\n",
       "    <tr>\n",
       "      <th>1</th>\n",
       "      <td>11020</td>\n",
       "      <td>중구</td>\n",
       "    </tr>\n",
       "    <tr>\n",
       "      <th>2</th>\n",
       "      <td>11030</td>\n",
       "      <td>용산구</td>\n",
       "    </tr>\n",
       "    <tr>\n",
       "      <th>3</th>\n",
       "      <td>11040</td>\n",
       "      <td>성동구</td>\n",
       "    </tr>\n",
       "    <tr>\n",
       "      <th>4</th>\n",
       "      <td>11050</td>\n",
       "      <td>광진구</td>\n",
       "    </tr>\n",
       "    <tr>\n",
       "      <th>...</th>\n",
       "      <td>...</td>\n",
       "      <td>...</td>\n",
       "    </tr>\n",
       "    <tr>\n",
       "      <th>72</th>\n",
       "      <td>31270</td>\n",
       "      <td>포천시</td>\n",
       "    </tr>\n",
       "    <tr>\n",
       "      <th>73</th>\n",
       "      <td>31280</td>\n",
       "      <td>여주시</td>\n",
       "    </tr>\n",
       "    <tr>\n",
       "      <th>74</th>\n",
       "      <td>31350</td>\n",
       "      <td>연천군</td>\n",
       "    </tr>\n",
       "    <tr>\n",
       "      <th>75</th>\n",
       "      <td>31370</td>\n",
       "      <td>가평군</td>\n",
       "    </tr>\n",
       "    <tr>\n",
       "      <th>76</th>\n",
       "      <td>31380</td>\n",
       "      <td>양평군</td>\n",
       "    </tr>\n",
       "  </tbody>\n",
       "</table>\n",
       "<p>77 rows × 2 columns</p>\n",
       "</div>"
      ],
      "text/plain": [
       "    시군구코드 시군구명칭\n",
       "0   11010   종로구\n",
       "1   11020    중구\n",
       "2   11030   용산구\n",
       "3   11040   성동구\n",
       "4   11050   광진구\n",
       "..    ...   ...\n",
       "72  31270   포천시\n",
       "73  31280   여주시\n",
       "74  31350   연천군\n",
       "75  31370   가평군\n",
       "76  31380   양평군\n",
       "\n",
       "[77 rows x 2 columns]"
      ]
     },
     "execution_count": 22,
     "metadata": {},
     "output_type": "execute_result"
    }
   ],
   "source": [
    "sigun=pd.DataFrame({'시군구코드':a,'시군구명칭':b})\n",
    "sigun"
   ]
  },
  {
   "cell_type": "code",
   "execution_count": 23,
   "metadata": {},
   "outputs": [],
   "source": [
    "for i in range(sigun['시군구코드'].nunique()):\n",
    "    df.loc[df[\"sigungu_code\"] == sigun['시군구코드'].unique()[i] , \"시군구\"] = sigun['시군구명칭'].unique()[i]"
   ]
  },
  {
   "cell_type": "code",
   "execution_count": 24,
   "metadata": {},
   "outputs": [],
   "source": [
    "df=df[(df['시도']=='서울특별시') | (df['시도']=='경기도')| (df['시도']=='인천광역시')]"
   ]
  },
  {
   "cell_type": "code",
   "execution_count": 25,
   "metadata": {},
   "outputs": [
    {
     "data": {
      "text/html": [
       "<div>\n",
       "<style scoped>\n",
       "    .dataframe tbody tr th:only-of-type {\n",
       "        vertical-align: middle;\n",
       "    }\n",
       "\n",
       "    .dataframe tbody tr th {\n",
       "        vertical-align: top;\n",
       "    }\n",
       "\n",
       "    .dataframe thead th {\n",
       "        text-align: right;\n",
       "    }\n",
       "</style>\n",
       "<table border=\"1\" class=\"dataframe\">\n",
       "  <thead>\n",
       "    <tr style=\"text-align: right;\">\n",
       "      <th></th>\n",
       "      <th>sido_code</th>\n",
       "      <th>sigungu_code</th>\n",
       "      <th>emd_code</th>\n",
       "      <th>week_type</th>\n",
       "      <th>FRIN_CG</th>\n",
       "      <th>시도</th>\n",
       "      <th>시군구</th>\n",
       "    </tr>\n",
       "  </thead>\n",
       "  <tbody>\n",
       "    <tr>\n",
       "      <th>2593</th>\n",
       "      <td>11</td>\n",
       "      <td>11020</td>\n",
       "      <td>1102054</td>\n",
       "      <td>weekday</td>\n",
       "      <td>43.02</td>\n",
       "      <td>서울특별시</td>\n",
       "      <td>중구</td>\n",
       "    </tr>\n",
       "    <tr>\n",
       "      <th>326</th>\n",
       "      <td>11</td>\n",
       "      <td>11170</td>\n",
       "      <td>1117065</td>\n",
       "      <td>weekday</td>\n",
       "      <td>55.68</td>\n",
       "      <td>서울특별시</td>\n",
       "      <td>구로구</td>\n",
       "    </tr>\n",
       "    <tr>\n",
       "      <th>2990</th>\n",
       "      <td>11</td>\n",
       "      <td>11130</td>\n",
       "      <td>1113065</td>\n",
       "      <td>weekday</td>\n",
       "      <td>32.66</td>\n",
       "      <td>서울특별시</td>\n",
       "      <td>서대문구</td>\n",
       "    </tr>\n",
       "    <tr>\n",
       "      <th>2991</th>\n",
       "      <td>11</td>\n",
       "      <td>11020</td>\n",
       "      <td>1102055</td>\n",
       "      <td>weekday</td>\n",
       "      <td>46.42</td>\n",
       "      <td>서울특별시</td>\n",
       "      <td>중구</td>\n",
       "    </tr>\n",
       "    <tr>\n",
       "      <th>2993</th>\n",
       "      <td>11</td>\n",
       "      <td>11200</td>\n",
       "      <td>1120063</td>\n",
       "      <td>weekday</td>\n",
       "      <td>38.48</td>\n",
       "      <td>서울특별시</td>\n",
       "      <td>동작구</td>\n",
       "    </tr>\n",
       "    <tr>\n",
       "      <th>...</th>\n",
       "      <td>...</td>\n",
       "      <td>...</td>\n",
       "      <td>...</td>\n",
       "      <td>...</td>\n",
       "      <td>...</td>\n",
       "      <td>...</td>\n",
       "      <td>...</td>\n",
       "    </tr>\n",
       "    <tr>\n",
       "      <th>1480</th>\n",
       "      <td>31</td>\n",
       "      <td>31012</td>\n",
       "      <td>3101254</td>\n",
       "      <td>weekday</td>\n",
       "      <td>45.58</td>\n",
       "      <td>경기도</td>\n",
       "      <td>수원시 권선구</td>\n",
       "    </tr>\n",
       "    <tr>\n",
       "      <th>1487</th>\n",
       "      <td>31</td>\n",
       "      <td>31050</td>\n",
       "      <td>3105051</td>\n",
       "      <td>weekday</td>\n",
       "      <td>73.71</td>\n",
       "      <td>경기도</td>\n",
       "      <td>부천시</td>\n",
       "    </tr>\n",
       "    <tr>\n",
       "      <th>754</th>\n",
       "      <td>31</td>\n",
       "      <td>31270</td>\n",
       "      <td>3127011</td>\n",
       "      <td>weekday</td>\n",
       "      <td>47.26</td>\n",
       "      <td>경기도</td>\n",
       "      <td>포천시</td>\n",
       "    </tr>\n",
       "    <tr>\n",
       "      <th>1491</th>\n",
       "      <td>31</td>\n",
       "      <td>31130</td>\n",
       "      <td>3113032</td>\n",
       "      <td>weekday</td>\n",
       "      <td>30.24</td>\n",
       "      <td>경기도</td>\n",
       "      <td>남양주시</td>\n",
       "    </tr>\n",
       "    <tr>\n",
       "      <th>1366</th>\n",
       "      <td>31</td>\n",
       "      <td>31240</td>\n",
       "      <td>3124037</td>\n",
       "      <td>weekday</td>\n",
       "      <td>28.18</td>\n",
       "      <td>경기도</td>\n",
       "      <td>화성시</td>\n",
       "    </tr>\n",
       "  </tbody>\n",
       "</table>\n",
       "<p>1129 rows × 7 columns</p>\n",
       "</div>"
      ],
      "text/plain": [
       "      sido_code  sigungu_code  emd_code week_type  FRIN_CG     시도      시군구\n",
       "2593         11         11020   1102054   weekday    43.02  서울특별시       중구\n",
       "326          11         11170   1117065   weekday    55.68  서울특별시      구로구\n",
       "2990         11         11130   1113065   weekday    32.66  서울특별시     서대문구\n",
       "2991         11         11020   1102055   weekday    46.42  서울특별시       중구\n",
       "2993         11         11200   1120063   weekday    38.48  서울특별시      동작구\n",
       "...         ...           ...       ...       ...      ...    ...      ...\n",
       "1480         31         31012   3101254   weekday    45.58    경기도  수원시 권선구\n",
       "1487         31         31050   3105051   weekday    73.71    경기도      부천시\n",
       "754          31         31270   3127011   weekday    47.26    경기도      포천시\n",
       "1491         31         31130   3113032   weekday    30.24    경기도     남양주시\n",
       "1366         31         31240   3124037   weekday    28.18    경기도      화성시\n",
       "\n",
       "[1129 rows x 7 columns]"
      ]
     },
     "execution_count": 25,
     "metadata": {},
     "output_type": "execute_result"
    }
   ],
   "source": [
    "df"
   ]
  },
  {
   "cell_type": "code",
   "execution_count": 26,
   "metadata": {},
   "outputs": [],
   "source": [
    "df.to_csv('수도권 혼잡빈도강도.csv',encoding='utf-8-sig',index=False)"
   ]
  }
 ],
 "metadata": {
  "kernelspec": {
   "display_name": "Python 3",
   "language": "python",
   "name": "python3"
  },
  "language_info": {
   "codemirror_mode": {
    "name": "ipython",
    "version": 3
   },
   "file_extension": ".py",
   "mimetype": "text/x-python",
   "name": "python",
   "nbconvert_exporter": "python",
   "pygments_lexer": "ipython3",
   "version": "3.8.5"
  }
 },
 "nbformat": 4,
 "nbformat_minor": 4
}
