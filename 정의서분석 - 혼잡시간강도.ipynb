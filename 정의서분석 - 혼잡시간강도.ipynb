{
 "cells": [
  {
   "cell_type": "code",
   "execution_count": 1,
   "metadata": {},
   "outputs": [],
   "source": [
    "import pandas as pd\n",
    "import numpy as np"
   ]
  },
  {
   "cell_type": "markdown",
   "metadata": {},
   "source": [
    "## 시도"
   ]
  },
  {
   "cell_type": "code",
   "execution_count": 2,
   "metadata": {},
   "outputs": [],
   "source": [
    "# 혼잡시간강도 데이터\n",
    "df=pd.read_csv('혼잡시간강도.csv')"
   ]
  },
  {
   "cell_type": "code",
   "execution_count": 11,
   "metadata": {},
   "outputs": [
    {
     "data": {
      "text/html": [
       "<div>\n",
       "<style scoped>\n",
       "    .dataframe tbody tr th:only-of-type {\n",
       "        vertical-align: middle;\n",
       "    }\n",
       "\n",
       "    .dataframe tbody tr th {\n",
       "        vertical-align: top;\n",
       "    }\n",
       "\n",
       "    .dataframe thead th {\n",
       "        text-align: right;\n",
       "    }\n",
       "</style>\n",
       "<table border=\"1\" class=\"dataframe\">\n",
       "  <thead>\n",
       "    <tr style=\"text-align: right;\">\n",
       "      <th></th>\n",
       "      <th>sido_code</th>\n",
       "      <th>sigungu_code</th>\n",
       "      <th>emd_code</th>\n",
       "      <th>week_type</th>\n",
       "      <th>TI_CG</th>\n",
       "    </tr>\n",
       "  </thead>\n",
       "  <tbody>\n",
       "    <tr>\n",
       "      <th>0</th>\n",
       "      <td>37</td>\n",
       "      <td>37011</td>\n",
       "      <td>3701112</td>\n",
       "      <td>weekday</td>\n",
       "      <td>42.53</td>\n",
       "    </tr>\n",
       "    <tr>\n",
       "      <th>1</th>\n",
       "      <td>37</td>\n",
       "      <td>37030</td>\n",
       "      <td>3703038</td>\n",
       "      <td>weekday</td>\n",
       "      <td>52.40</td>\n",
       "    </tr>\n",
       "    <tr>\n",
       "      <th>2</th>\n",
       "      <td>21</td>\n",
       "      <td>21010</td>\n",
       "      <td>2101060</td>\n",
       "      <td>weekday</td>\n",
       "      <td>39.94</td>\n",
       "    </tr>\n",
       "    <tr>\n",
       "      <th>3</th>\n",
       "      <td>22</td>\n",
       "      <td>22050</td>\n",
       "      <td>2205062</td>\n",
       "      <td>weekday</td>\n",
       "      <td>48.96</td>\n",
       "    </tr>\n",
       "    <tr>\n",
       "      <th>4</th>\n",
       "      <td>37</td>\n",
       "      <td>37330</td>\n",
       "      <td>3733034</td>\n",
       "      <td>weekday</td>\n",
       "      <td>50.13</td>\n",
       "    </tr>\n",
       "  </tbody>\n",
       "</table>\n",
       "</div>"
      ],
      "text/plain": [
       "   sido_code  sigungu_code  emd_code week_type  TI_CG\n",
       "0         37         37011   3701112   weekday  42.53\n",
       "1         37         37030   3703038   weekday  52.40\n",
       "2         21         21010   2101060   weekday  39.94\n",
       "3         22         22050   2205062   weekday  48.96\n",
       "4         37         37330   3733034   weekday  50.13"
      ]
     },
     "execution_count": 11,
     "metadata": {},
     "output_type": "execute_result"
    }
   ],
   "source": [
    "df[:5]"
   ]
  },
  {
   "cell_type": "code",
   "execution_count": 7,
   "metadata": {},
   "outputs": [],
   "source": [
    "# 정의서 행정구역\n",
    "doc=pd.read_excel('혼잡시간강도_행정구역_읍면동단위_데이터셋_명세서.xlsx',sheet_name='행정구역')"
   ]
  },
  {
   "cell_type": "code",
   "execution_count": 10,
   "metadata": {},
   "outputs": [
    {
     "data": {
      "text/html": [
       "<div>\n",
       "<style scoped>\n",
       "    .dataframe tbody tr th:only-of-type {\n",
       "        vertical-align: middle;\n",
       "    }\n",
       "\n",
       "    .dataframe tbody tr th {\n",
       "        vertical-align: top;\n",
       "    }\n",
       "\n",
       "    .dataframe thead th {\n",
       "        text-align: right;\n",
       "    }\n",
       "</style>\n",
       "<table border=\"1\" class=\"dataframe\">\n",
       "  <thead>\n",
       "    <tr style=\"text-align: right;\">\n",
       "      <th></th>\n",
       "      <th>시도코드</th>\n",
       "      <th>시도명칭</th>\n",
       "      <th>시군구코드</th>\n",
       "      <th>시군구명칭</th>\n",
       "      <th>읍면동코드</th>\n",
       "      <th>읍면동명칭</th>\n",
       "    </tr>\n",
       "  </thead>\n",
       "  <tbody>\n",
       "    <tr>\n",
       "      <th>0</th>\n",
       "      <td>11</td>\n",
       "      <td>서울특별시</td>\n",
       "      <td>11010</td>\n",
       "      <td>종로구</td>\n",
       "      <td>1101053</td>\n",
       "      <td>사직동</td>\n",
       "    </tr>\n",
       "    <tr>\n",
       "      <th>1</th>\n",
       "      <td>11</td>\n",
       "      <td>서울특별시</td>\n",
       "      <td>11010</td>\n",
       "      <td>종로구</td>\n",
       "      <td>1101054</td>\n",
       "      <td>삼청동</td>\n",
       "    </tr>\n",
       "    <tr>\n",
       "      <th>2</th>\n",
       "      <td>11</td>\n",
       "      <td>서울특별시</td>\n",
       "      <td>11010</td>\n",
       "      <td>종로구</td>\n",
       "      <td>1101055</td>\n",
       "      <td>부암동</td>\n",
       "    </tr>\n",
       "    <tr>\n",
       "      <th>3</th>\n",
       "      <td>11</td>\n",
       "      <td>서울특별시</td>\n",
       "      <td>11010</td>\n",
       "      <td>종로구</td>\n",
       "      <td>1101056</td>\n",
       "      <td>평창동</td>\n",
       "    </tr>\n",
       "    <tr>\n",
       "      <th>4</th>\n",
       "      <td>11</td>\n",
       "      <td>서울특별시</td>\n",
       "      <td>11010</td>\n",
       "      <td>종로구</td>\n",
       "      <td>1101057</td>\n",
       "      <td>무악동</td>\n",
       "    </tr>\n",
       "  </tbody>\n",
       "</table>\n",
       "</div>"
      ],
      "text/plain": [
       "   시도코드   시도명칭  시군구코드 시군구명칭    읍면동코드 읍면동명칭\n",
       "0    11  서울특별시  11010   종로구  1101053   사직동\n",
       "1    11  서울특별시  11010   종로구  1101054   삼청동\n",
       "2    11  서울특별시  11010   종로구  1101055   부암동\n",
       "3    11  서울특별시  11010   종로구  1101056   평창동\n",
       "4    11  서울특별시  11010   종로구  1101057   무악동"
      ]
     },
     "execution_count": 10,
     "metadata": {},
     "output_type": "execute_result"
    }
   ],
   "source": [
    "doc[:5]"
   ]
  },
  {
   "cell_type": "code",
   "execution_count": 12,
   "metadata": {},
   "outputs": [
    {
     "data": {
      "text/html": [
       "<div>\n",
       "<style scoped>\n",
       "    .dataframe tbody tr th:only-of-type {\n",
       "        vertical-align: middle;\n",
       "    }\n",
       "\n",
       "    .dataframe tbody tr th {\n",
       "        vertical-align: top;\n",
       "    }\n",
       "\n",
       "    .dataframe thead th {\n",
       "        text-align: right;\n",
       "    }\n",
       "</style>\n",
       "<table border=\"1\" class=\"dataframe\">\n",
       "  <thead>\n",
       "    <tr style=\"text-align: right;\">\n",
       "      <th></th>\n",
       "      <th>시도코드</th>\n",
       "      <th>시도명칭</th>\n",
       "    </tr>\n",
       "  </thead>\n",
       "  <tbody>\n",
       "    <tr>\n",
       "      <th>0</th>\n",
       "      <td>11</td>\n",
       "      <td>서울특별시</td>\n",
       "    </tr>\n",
       "    <tr>\n",
       "      <th>1</th>\n",
       "      <td>11</td>\n",
       "      <td>서울특별시</td>\n",
       "    </tr>\n",
       "    <tr>\n",
       "      <th>2</th>\n",
       "      <td>11</td>\n",
       "      <td>서울특별시</td>\n",
       "    </tr>\n",
       "    <tr>\n",
       "      <th>3</th>\n",
       "      <td>11</td>\n",
       "      <td>서울특별시</td>\n",
       "    </tr>\n",
       "    <tr>\n",
       "      <th>4</th>\n",
       "      <td>11</td>\n",
       "      <td>서울특별시</td>\n",
       "    </tr>\n",
       "  </tbody>\n",
       "</table>\n",
       "</div>"
      ],
      "text/plain": [
       "   시도코드   시도명칭\n",
       "0    11  서울특별시\n",
       "1    11  서울특별시\n",
       "2    11  서울특별시\n",
       "3    11  서울특별시\n",
       "4    11  서울특별시"
      ]
     },
     "execution_count": 12,
     "metadata": {},
     "output_type": "execute_result"
    }
   ],
   "source": [
    "# 시도코드, 시도명칭만 가져오기\n",
    "doc_si=doc[['시도코드','시도명칭']]\n",
    "doc_si.head()"
   ]
  },
  {
   "cell_type": "code",
   "execution_count": 25,
   "metadata": {},
   "outputs": [
    {
     "data": {
      "text/plain": [
       "array(['서울특별시', '부산광역시', '대구광역시', '인천광역시', '광주광역시', '대전광역시', '울산광역시',\n",
       "       '세종특별자치시', '경기도', '강원도', '충청북도', '충청남도', '전라북도', '전라남도', '경상북도',\n",
       "       '경상남도', '제주특별자치도'], dtype=object)"
      ]
     },
     "execution_count": 25,
     "metadata": {},
     "output_type": "execute_result"
    }
   ],
   "source": [
    "doc_si['시도명칭'].unique()"
   ]
  },
  {
   "cell_type": "code",
   "execution_count": 17,
   "metadata": {},
   "outputs": [
    {
     "data": {
      "text/plain": [
       "array([11, 21, 22, 23, 24, 25, 26, 29, 31, 32, 33, 34, 35, 36, 37, 38, 39],\n",
       "      dtype=int64)"
      ]
     },
     "execution_count": 17,
     "metadata": {},
     "output_type": "execute_result"
    }
   ],
   "source": [
    "doc_si['시도코드'].unique()"
   ]
  },
  {
   "cell_type": "code",
   "execution_count": 19,
   "metadata": {},
   "outputs": [
    {
     "name": "stdout",
     "output_type": "stream",
     "text": [
      "<class 'pandas.core.frame.DataFrame'>\n",
      "RangeIndex: 3504 entries, 0 to 3503\n",
      "Data columns (total 2 columns):\n",
      " #   Column  Non-Null Count  Dtype \n",
      "---  ------  --------------  ----- \n",
      " 0   시도코드    3504 non-null   int64 \n",
      " 1   시도명칭    3504 non-null   object\n",
      "dtypes: int64(1), object(1)\n",
      "memory usage: 54.9+ KB\n"
     ]
    }
   ],
   "source": [
    "doc_si.info()"
   ]
  },
  {
   "cell_type": "code",
   "execution_count": 26,
   "metadata": {},
   "outputs": [],
   "source": [
    "# 찾아서 맞게 변형\n",
    "df.loc[df[\"sido_code\"] == 11, \"시도\"] = \"서울특별시\"\n",
    "df.loc[df[\"sido_code\"] == 21, \"시도\"] = \"부산광역시\"\n",
    "df.loc[df[\"sido_code\"] == 22, \"시도\"] = \"대구광역시\"\n",
    "df.loc[df[\"sido_code\"] == 23, \"시도\"] = \"인천광역시\"\n",
    "df.loc[df[\"sido_code\"] == 24, \"시도\"] = \"광주광역시\"\n",
    "df.loc[df[\"sido_code\"] == 25, \"시도\"] = \"대전광역시\"\n",
    "df.loc[df[\"sido_code\"] == 26, \"시도\"] = \"울산광역시\"\n",
    "df.loc[df[\"sido_code\"] == 29, \"시도\"] = \"세종특별자치시\"\n",
    "df.loc[df[\"sido_code\"] == 31, \"시도\"] = \"경기도\"\n",
    "df.loc[df[\"sido_code\"] == 32, \"시도\"] = \"강원도\"\n",
    "df.loc[df[\"sido_code\"] == 33, \"시도\"] = \"충청북도\"\n",
    "df.loc[df[\"sido_code\"] == 34, \"시도\"] = \"충청남도\"\n",
    "df.loc[df[\"sido_code\"] == 35, \"시도\"] = \"전라북도\"\n",
    "df.loc[df[\"sido_code\"] == 36, \"시도\"] = \"전라남도\"\n",
    "df.loc[df[\"sido_code\"] == 37, \"시도\"] = \"경상북도\"\n",
    "df.loc[df[\"sido_code\"] == 38, \"시도\"] = \"경상남도\"\n",
    "df.loc[df[\"sido_code\"] == 39, \"시도\"] = \"제주특별자치도\""
   ]
  },
  {
   "cell_type": "code",
   "execution_count": 27,
   "metadata": {},
   "outputs": [
    {
     "data": {
      "text/html": [
       "<div>\n",
       "<style scoped>\n",
       "    .dataframe tbody tr th:only-of-type {\n",
       "        vertical-align: middle;\n",
       "    }\n",
       "\n",
       "    .dataframe tbody tr th {\n",
       "        vertical-align: top;\n",
       "    }\n",
       "\n",
       "    .dataframe thead th {\n",
       "        text-align: right;\n",
       "    }\n",
       "</style>\n",
       "<table border=\"1\" class=\"dataframe\">\n",
       "  <thead>\n",
       "    <tr style=\"text-align: right;\">\n",
       "      <th></th>\n",
       "      <th>sido_code</th>\n",
       "      <th>sigungu_code</th>\n",
       "      <th>emd_code</th>\n",
       "      <th>week_type</th>\n",
       "      <th>TI_CG</th>\n",
       "      <th>시도</th>\n",
       "    </tr>\n",
       "  </thead>\n",
       "  <tbody>\n",
       "    <tr>\n",
       "      <th>0</th>\n",
       "      <td>37</td>\n",
       "      <td>37011</td>\n",
       "      <td>3701112</td>\n",
       "      <td>weekday</td>\n",
       "      <td>42.53</td>\n",
       "      <td>경상북도</td>\n",
       "    </tr>\n",
       "    <tr>\n",
       "      <th>1</th>\n",
       "      <td>37</td>\n",
       "      <td>37030</td>\n",
       "      <td>3703038</td>\n",
       "      <td>weekday</td>\n",
       "      <td>52.40</td>\n",
       "      <td>경상북도</td>\n",
       "    </tr>\n",
       "    <tr>\n",
       "      <th>2</th>\n",
       "      <td>21</td>\n",
       "      <td>21010</td>\n",
       "      <td>2101060</td>\n",
       "      <td>weekday</td>\n",
       "      <td>39.94</td>\n",
       "      <td>부산광역시</td>\n",
       "    </tr>\n",
       "    <tr>\n",
       "      <th>3</th>\n",
       "      <td>22</td>\n",
       "      <td>22050</td>\n",
       "      <td>2205062</td>\n",
       "      <td>weekday</td>\n",
       "      <td>48.96</td>\n",
       "      <td>대구광역시</td>\n",
       "    </tr>\n",
       "    <tr>\n",
       "      <th>4</th>\n",
       "      <td>37</td>\n",
       "      <td>37330</td>\n",
       "      <td>3733034</td>\n",
       "      <td>weekday</td>\n",
       "      <td>50.13</td>\n",
       "      <td>경상북도</td>\n",
       "    </tr>\n",
       "    <tr>\n",
       "      <th>...</th>\n",
       "      <td>...</td>\n",
       "      <td>...</td>\n",
       "      <td>...</td>\n",
       "      <td>...</td>\n",
       "      <td>...</td>\n",
       "      <td>...</td>\n",
       "    </tr>\n",
       "    <tr>\n",
       "      <th>3461</th>\n",
       "      <td>38</td>\n",
       "      <td>38080</td>\n",
       "      <td>3808052</td>\n",
       "      <td>weekday</td>\n",
       "      <td>84.80</td>\n",
       "      <td>경상남도</td>\n",
       "    </tr>\n",
       "    <tr>\n",
       "      <th>3462</th>\n",
       "      <td>22</td>\n",
       "      <td>22060</td>\n",
       "      <td>2206051</td>\n",
       "      <td>weekday</td>\n",
       "      <td>57.20</td>\n",
       "      <td>대구광역시</td>\n",
       "    </tr>\n",
       "    <tr>\n",
       "      <th>3463</th>\n",
       "      <td>24</td>\n",
       "      <td>24020</td>\n",
       "      <td>2402070</td>\n",
       "      <td>weekday</td>\n",
       "      <td>42.73</td>\n",
       "      <td>광주광역시</td>\n",
       "    </tr>\n",
       "    <tr>\n",
       "      <th>3464</th>\n",
       "      <td>31</td>\n",
       "      <td>31280</td>\n",
       "      <td>3128037</td>\n",
       "      <td>weekday</td>\n",
       "      <td>25.04</td>\n",
       "      <td>경기도</td>\n",
       "    </tr>\n",
       "    <tr>\n",
       "      <th>3465</th>\n",
       "      <td>31</td>\n",
       "      <td>31012</td>\n",
       "      <td>3101253</td>\n",
       "      <td>weekday</td>\n",
       "      <td>65.25</td>\n",
       "      <td>경기도</td>\n",
       "    </tr>\n",
       "  </tbody>\n",
       "</table>\n",
       "<p>3466 rows × 6 columns</p>\n",
       "</div>"
      ],
      "text/plain": [
       "      sido_code  sigungu_code  emd_code week_type  TI_CG     시도\n",
       "0            37         37011   3701112   weekday  42.53   경상북도\n",
       "1            37         37030   3703038   weekday  52.40   경상북도\n",
       "2            21         21010   2101060   weekday  39.94  부산광역시\n",
       "3            22         22050   2205062   weekday  48.96  대구광역시\n",
       "4            37         37330   3733034   weekday  50.13   경상북도\n",
       "...         ...           ...       ...       ...    ...    ...\n",
       "3461         38         38080   3808052   weekday  84.80   경상남도\n",
       "3462         22         22060   2206051   weekday  57.20  대구광역시\n",
       "3463         24         24020   2402070   weekday  42.73  광주광역시\n",
       "3464         31         31280   3128037   weekday  25.04    경기도\n",
       "3465         31         31012   3101253   weekday  65.25    경기도\n",
       "\n",
       "[3466 rows x 6 columns]"
      ]
     },
     "execution_count": 27,
     "metadata": {},
     "output_type": "execute_result"
    }
   ],
   "source": [
    "df"
   ]
  },
  {
   "cell_type": "code",
   "execution_count": 28,
   "metadata": {},
   "outputs": [],
   "source": [
    "# 코드로 구현하는 다른 방법\n",
    "df.loc[df[\"sido_code\"] == doc_si['시도코드'].unique()[0] , \"시도\"] = doc_si['시도명칭'].unique()[0]"
   ]
  },
  {
   "cell_type": "code",
   "execution_count": 33,
   "metadata": {},
   "outputs": [
    {
     "data": {
      "text/plain": [
       "Index(['sido_code', 'sigungu_code', 'emd_code', 'week_type', 'TI_CG', '시도'], dtype='object')"
      ]
     },
     "execution_count": 33,
     "metadata": {},
     "output_type": "execute_result"
    }
   ],
   "source": [
    "df.columns"
   ]
  },
  {
   "cell_type": "code",
   "execution_count": 35,
   "metadata": {},
   "outputs": [
    {
     "data": {
      "text/html": [
       "<div>\n",
       "<style scoped>\n",
       "    .dataframe tbody tr th:only-of-type {\n",
       "        vertical-align: middle;\n",
       "    }\n",
       "\n",
       "    .dataframe tbody tr th {\n",
       "        vertical-align: top;\n",
       "    }\n",
       "\n",
       "    .dataframe thead th {\n",
       "        text-align: right;\n",
       "    }\n",
       "</style>\n",
       "<table border=\"1\" class=\"dataframe\">\n",
       "  <thead>\n",
       "    <tr style=\"text-align: right;\">\n",
       "      <th></th>\n",
       "      <th>sido_code</th>\n",
       "      <th>sigungu_code</th>\n",
       "      <th>emd_code</th>\n",
       "      <th>week_type</th>\n",
       "      <th>TI_CG</th>\n",
       "      <th>시도</th>\n",
       "    </tr>\n",
       "  </thead>\n",
       "  <tbody>\n",
       "    <tr>\n",
       "      <th>745</th>\n",
       "      <td>11</td>\n",
       "      <td>11110</td>\n",
       "      <td>1111072</td>\n",
       "      <td>weekday</td>\n",
       "      <td>93.28</td>\n",
       "      <td>서울특별시</td>\n",
       "    </tr>\n",
       "    <tr>\n",
       "      <th>2128</th>\n",
       "      <td>11</td>\n",
       "      <td>11080</td>\n",
       "      <td>1108085</td>\n",
       "      <td>weekday</td>\n",
       "      <td>79.34</td>\n",
       "      <td>서울특별시</td>\n",
       "    </tr>\n",
       "    <tr>\n",
       "      <th>1279</th>\n",
       "      <td>11</td>\n",
       "      <td>11100</td>\n",
       "      <td>1110065</td>\n",
       "      <td>weekday</td>\n",
       "      <td>66.01</td>\n",
       "      <td>서울특별시</td>\n",
       "    </tr>\n",
       "    <tr>\n",
       "      <th>985</th>\n",
       "      <td>11</td>\n",
       "      <td>11100</td>\n",
       "      <td>1110053</td>\n",
       "      <td>weekday</td>\n",
       "      <td>79.33</td>\n",
       "      <td>서울특별시</td>\n",
       "    </tr>\n",
       "    <tr>\n",
       "      <th>2132</th>\n",
       "      <td>11</td>\n",
       "      <td>11230</td>\n",
       "      <td>1123075</td>\n",
       "      <td>weekday</td>\n",
       "      <td>78.40</td>\n",
       "      <td>서울특별시</td>\n",
       "    </tr>\n",
       "  </tbody>\n",
       "</table>\n",
       "</div>"
      ],
      "text/plain": [
       "      sido_code  sigungu_code  emd_code week_type  TI_CG     시도\n",
       "745          11         11110   1111072   weekday  93.28  서울특별시\n",
       "2128         11         11080   1108085   weekday  79.34  서울특별시\n",
       "1279         11         11100   1110065   weekday  66.01  서울특별시\n",
       "985          11         11100   1110053   weekday  79.33  서울특별시\n",
       "2132         11         11230   1123075   weekday  78.40  서울특별시"
      ]
     },
     "execution_count": 35,
     "metadata": {},
     "output_type": "execute_result"
    }
   ],
   "source": [
    "df=df.sort_values('sido_code')\n",
    "df.head()"
   ]
  },
  {
   "cell_type": "markdown",
   "metadata": {},
   "source": [
    "## 구"
   ]
  },
  {
   "cell_type": "code",
   "execution_count": 65,
   "metadata": {},
   "outputs": [
    {
     "data": {
      "text/html": [
       "<div>\n",
       "<style scoped>\n",
       "    .dataframe tbody tr th:only-of-type {\n",
       "        vertical-align: middle;\n",
       "    }\n",
       "\n",
       "    .dataframe tbody tr th {\n",
       "        vertical-align: top;\n",
       "    }\n",
       "\n",
       "    .dataframe thead th {\n",
       "        text-align: right;\n",
       "    }\n",
       "</style>\n",
       "<table border=\"1\" class=\"dataframe\">\n",
       "  <thead>\n",
       "    <tr style=\"text-align: right;\">\n",
       "      <th></th>\n",
       "      <th>sido_code</th>\n",
       "      <th>sigungu_code</th>\n",
       "      <th>emd_code</th>\n",
       "      <th>week_type</th>\n",
       "      <th>TI_CG</th>\n",
       "      <th>시도</th>\n",
       "      <th>시군구</th>\n",
       "    </tr>\n",
       "  </thead>\n",
       "  <tbody>\n",
       "    <tr>\n",
       "      <th>745</th>\n",
       "      <td>11</td>\n",
       "      <td>11110</td>\n",
       "      <td>1111072</td>\n",
       "      <td>weekday</td>\n",
       "      <td>93.28</td>\n",
       "      <td>서울특별시</td>\n",
       "      <td>노원구</td>\n",
       "    </tr>\n",
       "    <tr>\n",
       "      <th>2128</th>\n",
       "      <td>11</td>\n",
       "      <td>11080</td>\n",
       "      <td>1108085</td>\n",
       "      <td>weekday</td>\n",
       "      <td>79.34</td>\n",
       "      <td>서울특별시</td>\n",
       "      <td>성북구</td>\n",
       "    </tr>\n",
       "    <tr>\n",
       "      <th>1279</th>\n",
       "      <td>11</td>\n",
       "      <td>11100</td>\n",
       "      <td>1110065</td>\n",
       "      <td>weekday</td>\n",
       "      <td>66.01</td>\n",
       "      <td>서울특별시</td>\n",
       "      <td>도봉구</td>\n",
       "    </tr>\n",
       "    <tr>\n",
       "      <th>985</th>\n",
       "      <td>11</td>\n",
       "      <td>11100</td>\n",
       "      <td>1110053</td>\n",
       "      <td>weekday</td>\n",
       "      <td>79.33</td>\n",
       "      <td>서울특별시</td>\n",
       "      <td>도봉구</td>\n",
       "    </tr>\n",
       "    <tr>\n",
       "      <th>2132</th>\n",
       "      <td>11</td>\n",
       "      <td>11230</td>\n",
       "      <td>1123075</td>\n",
       "      <td>weekday</td>\n",
       "      <td>78.40</td>\n",
       "      <td>서울특별시</td>\n",
       "      <td>강남구</td>\n",
       "    </tr>\n",
       "  </tbody>\n",
       "</table>\n",
       "</div>"
      ],
      "text/plain": [
       "      sido_code  sigungu_code  emd_code week_type  TI_CG     시도  시군구\n",
       "745          11         11110   1111072   weekday  93.28  서울특별시  노원구\n",
       "2128         11         11080   1108085   weekday  79.34  서울특별시  성북구\n",
       "1279         11         11100   1110065   weekday  66.01  서울특별시  도봉구\n",
       "985          11         11100   1110053   weekday  79.33  서울특별시  도봉구\n",
       "2132         11         11230   1123075   weekday  78.40  서울특별시  강남구"
      ]
     },
     "execution_count": 65,
     "metadata": {},
     "output_type": "execute_result"
    }
   ],
   "source": [
    "df.head()"
   ]
  },
  {
   "cell_type": "code",
   "execution_count": 66,
   "metadata": {},
   "outputs": [
    {
     "data": {
      "text/html": [
       "<div>\n",
       "<style scoped>\n",
       "    .dataframe tbody tr th:only-of-type {\n",
       "        vertical-align: middle;\n",
       "    }\n",
       "\n",
       "    .dataframe tbody tr th {\n",
       "        vertical-align: top;\n",
       "    }\n",
       "\n",
       "    .dataframe thead th {\n",
       "        text-align: right;\n",
       "    }\n",
       "</style>\n",
       "<table border=\"1\" class=\"dataframe\">\n",
       "  <thead>\n",
       "    <tr style=\"text-align: right;\">\n",
       "      <th></th>\n",
       "      <th>시도명칭</th>\n",
       "      <th>시군구코드</th>\n",
       "      <th>시군구명칭</th>\n",
       "    </tr>\n",
       "  </thead>\n",
       "  <tbody>\n",
       "    <tr>\n",
       "      <th>0</th>\n",
       "      <td>서울특별시</td>\n",
       "      <td>11010</td>\n",
       "      <td>종로구</td>\n",
       "    </tr>\n",
       "    <tr>\n",
       "      <th>1</th>\n",
       "      <td>서울특별시</td>\n",
       "      <td>11010</td>\n",
       "      <td>종로구</td>\n",
       "    </tr>\n",
       "    <tr>\n",
       "      <th>2</th>\n",
       "      <td>서울특별시</td>\n",
       "      <td>11010</td>\n",
       "      <td>종로구</td>\n",
       "    </tr>\n",
       "    <tr>\n",
       "      <th>3</th>\n",
       "      <td>서울특별시</td>\n",
       "      <td>11010</td>\n",
       "      <td>종로구</td>\n",
       "    </tr>\n",
       "    <tr>\n",
       "      <th>4</th>\n",
       "      <td>서울특별시</td>\n",
       "      <td>11010</td>\n",
       "      <td>종로구</td>\n",
       "    </tr>\n",
       "  </tbody>\n",
       "</table>\n",
       "</div>"
      ],
      "text/plain": [
       "    시도명칭  시군구코드 시군구명칭\n",
       "0  서울특별시  11010   종로구\n",
       "1  서울특별시  11010   종로구\n",
       "2  서울특별시  11010   종로구\n",
       "3  서울특별시  11010   종로구\n",
       "4  서울특별시  11010   종로구"
      ]
     },
     "execution_count": 66,
     "metadata": {},
     "output_type": "execute_result"
    }
   ],
   "source": [
    "doc_sigun=doc[['시도명칭','시군구코드','시군구명칭']]\n",
    "doc_sigun.head()"
   ]
  },
  {
   "cell_type": "code",
   "execution_count": 75,
   "metadata": {},
   "outputs": [],
   "source": [
    "doc_sigun=doc[(doc['시도명칭']=='서울특별시') | (doc['시도명칭']=='경기도')| (doc['시도명칭']=='인천광역시')]"
   ]
  },
  {
   "cell_type": "code",
   "execution_count": 76,
   "metadata": {},
   "outputs": [
    {
     "data": {
      "text/html": [
       "<div>\n",
       "<style scoped>\n",
       "    .dataframe tbody tr th:only-of-type {\n",
       "        vertical-align: middle;\n",
       "    }\n",
       "\n",
       "    .dataframe tbody tr th {\n",
       "        vertical-align: top;\n",
       "    }\n",
       "\n",
       "    .dataframe thead th {\n",
       "        text-align: right;\n",
       "    }\n",
       "</style>\n",
       "<table border=\"1\" class=\"dataframe\">\n",
       "  <thead>\n",
       "    <tr style=\"text-align: right;\">\n",
       "      <th></th>\n",
       "      <th>시도코드</th>\n",
       "      <th>시도명칭</th>\n",
       "      <th>시군구코드</th>\n",
       "      <th>시군구명칭</th>\n",
       "      <th>읍면동코드</th>\n",
       "      <th>읍면동명칭</th>\n",
       "    </tr>\n",
       "  </thead>\n",
       "  <tbody>\n",
       "    <tr>\n",
       "      <th>0</th>\n",
       "      <td>11</td>\n",
       "      <td>서울특별시</td>\n",
       "      <td>11010</td>\n",
       "      <td>종로구</td>\n",
       "      <td>1101053</td>\n",
       "      <td>사직동</td>\n",
       "    </tr>\n",
       "    <tr>\n",
       "      <th>1</th>\n",
       "      <td>11</td>\n",
       "      <td>서울특별시</td>\n",
       "      <td>11010</td>\n",
       "      <td>종로구</td>\n",
       "      <td>1101054</td>\n",
       "      <td>삼청동</td>\n",
       "    </tr>\n",
       "    <tr>\n",
       "      <th>2</th>\n",
       "      <td>11</td>\n",
       "      <td>서울특별시</td>\n",
       "      <td>11010</td>\n",
       "      <td>종로구</td>\n",
       "      <td>1101055</td>\n",
       "      <td>부암동</td>\n",
       "    </tr>\n",
       "    <tr>\n",
       "      <th>3</th>\n",
       "      <td>11</td>\n",
       "      <td>서울특별시</td>\n",
       "      <td>11010</td>\n",
       "      <td>종로구</td>\n",
       "      <td>1101056</td>\n",
       "      <td>평창동</td>\n",
       "    </tr>\n",
       "    <tr>\n",
       "      <th>4</th>\n",
       "      <td>11</td>\n",
       "      <td>서울특별시</td>\n",
       "      <td>11010</td>\n",
       "      <td>종로구</td>\n",
       "      <td>1101057</td>\n",
       "      <td>무악동</td>\n",
       "    </tr>\n",
       "    <tr>\n",
       "      <th>...</th>\n",
       "      <td>...</td>\n",
       "      <td>...</td>\n",
       "      <td>...</td>\n",
       "      <td>...</td>\n",
       "      <td>...</td>\n",
       "      <td>...</td>\n",
       "    </tr>\n",
       "    <tr>\n",
       "      <th>1725</th>\n",
       "      <td>31</td>\n",
       "      <td>경기도</td>\n",
       "      <td>31380</td>\n",
       "      <td>양평군</td>\n",
       "      <td>3138037</td>\n",
       "      <td>청운면</td>\n",
       "    </tr>\n",
       "    <tr>\n",
       "      <th>1726</th>\n",
       "      <td>31</td>\n",
       "      <td>경기도</td>\n",
       "      <td>31380</td>\n",
       "      <td>양평군</td>\n",
       "      <td>3138038</td>\n",
       "      <td>양동면</td>\n",
       "    </tr>\n",
       "    <tr>\n",
       "      <th>1727</th>\n",
       "      <td>31</td>\n",
       "      <td>경기도</td>\n",
       "      <td>31380</td>\n",
       "      <td>양평군</td>\n",
       "      <td>3138039</td>\n",
       "      <td>지평면</td>\n",
       "    </tr>\n",
       "    <tr>\n",
       "      <th>1728</th>\n",
       "      <td>31</td>\n",
       "      <td>경기도</td>\n",
       "      <td>31380</td>\n",
       "      <td>양평군</td>\n",
       "      <td>3138040</td>\n",
       "      <td>용문면</td>\n",
       "    </tr>\n",
       "    <tr>\n",
       "      <th>1729</th>\n",
       "      <td>31</td>\n",
       "      <td>경기도</td>\n",
       "      <td>31380</td>\n",
       "      <td>양평군</td>\n",
       "      <td>3138041</td>\n",
       "      <td>개군면</td>\n",
       "    </tr>\n",
       "  </tbody>\n",
       "</table>\n",
       "<p>1138 rows × 6 columns</p>\n",
       "</div>"
      ],
      "text/plain": [
       "      시도코드   시도명칭  시군구코드 시군구명칭    읍면동코드 읍면동명칭\n",
       "0       11  서울특별시  11010   종로구  1101053   사직동\n",
       "1       11  서울특별시  11010   종로구  1101054   삼청동\n",
       "2       11  서울특별시  11010   종로구  1101055   부암동\n",
       "3       11  서울특별시  11010   종로구  1101056   평창동\n",
       "4       11  서울특별시  11010   종로구  1101057   무악동\n",
       "...    ...    ...    ...   ...      ...   ...\n",
       "1725    31    경기도  31380   양평군  3138037   청운면\n",
       "1726    31    경기도  31380   양평군  3138038   양동면\n",
       "1727    31    경기도  31380   양평군  3138039   지평면\n",
       "1728    31    경기도  31380   양평군  3138040   용문면\n",
       "1729    31    경기도  31380   양평군  3138041   개군면\n",
       "\n",
       "[1138 rows x 6 columns]"
      ]
     },
     "execution_count": 76,
     "metadata": {},
     "output_type": "execute_result"
    }
   ],
   "source": [
    "doc_sigun"
   ]
  },
  {
   "cell_type": "code",
   "execution_count": 77,
   "metadata": {},
   "outputs": [],
   "source": [
    "doc_sigun=doc_sigun[['시도명칭','시군구코드','시군구명칭']]"
   ]
  },
  {
   "cell_type": "code",
   "execution_count": 78,
   "metadata": {},
   "outputs": [
    {
     "data": {
      "text/plain": [
       "11010"
      ]
     },
     "execution_count": 78,
     "metadata": {},
     "output_type": "execute_result"
    }
   ],
   "source": [
    "doc_sigun['시군구코드'].unique()[0]"
   ]
  },
  {
   "cell_type": "code",
   "execution_count": 79,
   "metadata": {},
   "outputs": [
    {
     "data": {
      "text/plain": [
       "77"
      ]
     },
     "execution_count": 79,
     "metadata": {},
     "output_type": "execute_result"
    }
   ],
   "source": [
    "doc_sigun['시군구코드'].nunique()"
   ]
  },
  {
   "cell_type": "code",
   "execution_count": 80,
   "metadata": {},
   "outputs": [
    {
     "data": {
      "text/plain": [
       "76"
      ]
     },
     "execution_count": 80,
     "metadata": {},
     "output_type": "execute_result"
    }
   ],
   "source": [
    "doc_sigun['시군구명칭'].nunique()"
   ]
  },
  {
   "cell_type": "code",
   "execution_count": 81,
   "metadata": {},
   "outputs": [
    {
     "data": {
      "text/plain": [
       "'종로구'"
      ]
     },
     "execution_count": 81,
     "metadata": {},
     "output_type": "execute_result"
    }
   ],
   "source": [
    "doc_sigun['시군구명칭'].unique()[0]"
   ]
  },
  {
   "cell_type": "code",
   "execution_count": 52,
   "metadata": {},
   "outputs": [
    {
     "ename": "IndexError",
     "evalue": "index 227 is out of bounds for axis 0 with size 227",
     "output_type": "error",
     "traceback": [
      "\u001b[1;31m---------------------------------------------------------------------------\u001b[0m",
      "\u001b[1;31mIndexError\u001b[0m                                Traceback (most recent call last)",
      "\u001b[1;32m<ipython-input-52-203936a31361>\u001b[0m in \u001b[0;36m<module>\u001b[1;34m\u001b[0m\n\u001b[0;32m      1\u001b[0m \u001b[1;32mfor\u001b[0m \u001b[0mi\u001b[0m \u001b[1;32min\u001b[0m \u001b[0mrange\u001b[0m\u001b[1;33m(\u001b[0m\u001b[0mdoc_sigun\u001b[0m\u001b[1;33m[\u001b[0m\u001b[1;34m'시군구코드'\u001b[0m\u001b[1;33m]\u001b[0m\u001b[1;33m.\u001b[0m\u001b[0mnunique\u001b[0m\u001b[1;33m(\u001b[0m\u001b[1;33m)\u001b[0m\u001b[1;33m)\u001b[0m\u001b[1;33m:\u001b[0m\u001b[1;33m\u001b[0m\u001b[1;33m\u001b[0m\u001b[0m\n\u001b[1;32m----> 2\u001b[1;33m     \u001b[0mdf\u001b[0m\u001b[1;33m.\u001b[0m\u001b[0mloc\u001b[0m\u001b[1;33m[\u001b[0m\u001b[0mdf\u001b[0m\u001b[1;33m[\u001b[0m\u001b[1;34m\"sigungu_code\"\u001b[0m\u001b[1;33m]\u001b[0m \u001b[1;33m==\u001b[0m \u001b[0mdoc_sigun\u001b[0m\u001b[1;33m[\u001b[0m\u001b[1;34m'시군구코드'\u001b[0m\u001b[1;33m]\u001b[0m\u001b[1;33m.\u001b[0m\u001b[0munique\u001b[0m\u001b[1;33m(\u001b[0m\u001b[1;33m)\u001b[0m\u001b[1;33m[\u001b[0m\u001b[0mi\u001b[0m\u001b[1;33m]\u001b[0m \u001b[1;33m,\u001b[0m \u001b[1;34m\"시군구\"\u001b[0m\u001b[1;33m]\u001b[0m \u001b[1;33m=\u001b[0m \u001b[0mdoc_sigun\u001b[0m\u001b[1;33m[\u001b[0m\u001b[1;34m'시군구명칭'\u001b[0m\u001b[1;33m]\u001b[0m\u001b[1;33m.\u001b[0m\u001b[0munique\u001b[0m\u001b[1;33m(\u001b[0m\u001b[1;33m)\u001b[0m\u001b[1;33m[\u001b[0m\u001b[0mi\u001b[0m\u001b[1;33m]\u001b[0m\u001b[1;33m\u001b[0m\u001b[1;33m\u001b[0m\u001b[0m\n\u001b[0m",
      "\u001b[1;31mIndexError\u001b[0m: index 227 is out of bounds for axis 0 with size 227"
     ]
    }
   ],
   "source": [
    "for i in range(doc_sigun['시군구코드'].nunique()):\n",
    "    df.loc[df[\"sigungu_code\"] == doc_sigun['시군구코드'].unique()[i] , \"시군구\"] = doc_sigun['시군구명칭'].unique()[i]"
   ]
  },
  {
   "cell_type": "code",
   "execution_count": 95,
   "metadata": {},
   "outputs": [
    {
     "data": {
      "text/plain": [
       "array([11010, 11020, 11030, 11040, 11050, 11060, 11070, 11080, 11090,\n",
       "       11100, 11110, 11120, 11130, 11140, 11150, 11160, 11170, 11180,\n",
       "       11190, 11200, 11210, 11220, 11230, 11240, 11250, 23010, 23020,\n",
       "       23030, 23040, 23050, 23060, 23070, 23080, 23310, 23320, 31011,\n",
       "       31012, 31013, 31014, 31021, 31022, 31023, 31030, 31041, 31042,\n",
       "       31050, 31060, 31070, 31080, 31091, 31092, 31101, 31103, 31104,\n",
       "       31110, 31120, 31130, 31140, 31150, 31160, 31170, 31180, 31191,\n",
       "       31192, 31193, 31200, 31210, 31220, 31230, 31240, 31250, 31260,\n",
       "       31270, 31280, 31350, 31370, 31380], dtype=int64)"
      ]
     },
     "execution_count": 95,
     "metadata": {},
     "output_type": "execute_result"
    }
   ],
   "source": [
    "doc_sigun['시군구코드'].unique()"
   ]
  },
  {
   "cell_type": "code",
   "execution_count": 85,
   "metadata": {},
   "outputs": [
    {
     "data": {
      "text/plain": [
       "array(['종로구', '중구', '용산구', '성동구', '광진구', '동대문구', '중랑구', '성북구', '강북구',\n",
       "       '도봉구', '노원구', '은평구', '서대문구', '마포구', '양천구', '강서구', '구로구', '금천구',\n",
       "       '영등포구', '동작구', '관악구', '서초구', '강남구', '송파구', '강동구', '동구', '남구',\n",
       "       '연수구', '남동구', '부평구', '계양구', '서구', '강화군', '옹진군', '수원시 장안구',\n",
       "       '수원시 권선구', '수원시 팔달구', '수원시 영통구', '성남시 수정구', '성남시 중원구', '성남시 분당구',\n",
       "       '의정부시', '안양시 만안구', '안양시 동안구', '부천시', '광명시', '평택시', '동두천시',\n",
       "       '안산시 상록구', '안산시 단원구', '고양시 덕양구', '고양시 일산동구', '고양시 일산서구', '과천시',\n",
       "       '구리시', '남양주시', '오산시', '시흥시', '군포시', '의왕시', '하남시', '용인시 처인구',\n",
       "       '용인시 기흥구', '용인시 수지구', '파주시', '이천시', '안성시', '김포시', '화성시', '광주시',\n",
       "       '양주시', '포천시', '여주시', '연천군', '가평군', '양평군'], dtype=object)"
      ]
     },
     "execution_count": 85,
     "metadata": {},
     "output_type": "execute_result"
    }
   ],
   "source": [
    "doc_sigun['시군구명칭'].unique()"
   ]
  },
  {
   "cell_type": "markdown",
   "metadata": {},
   "source": [
    "### 확인결과 서울, 인천 모두 중구가 있는 것을 확인할 수 있음"
   ]
  },
  {
   "cell_type": "code",
   "execution_count": 94,
   "metadata": {},
   "outputs": [
    {
     "data": {
      "text/plain": [
       "23010"
      ]
     },
     "execution_count": 94,
     "metadata": {},
     "output_type": "execute_result"
    }
   ],
   "source": [
    "doc_sigun['시군구코드'].unique()[25]"
   ]
  },
  {
   "cell_type": "code",
   "execution_count": 109,
   "metadata": {},
   "outputs": [
    {
     "data": {
      "text/plain": [
       "array([11010, 11020, 11030, 11040, 11050, 11060, 11070, 11080, 11090,\n",
       "       11100, 11110, 11120, 11130, 11140, 11150, 11160, 11170, 11180,\n",
       "       11190, 11200, 11210, 11220, 11230, 11240, 11250, 23010, 23020,\n",
       "       23030, 23040, 23050, 23060, 23070, 23080, 23310, 23320, 31011,\n",
       "       31012, 31013, 31014, 31021, 31022, 31023, 31030, 31041, 31042,\n",
       "       31050, 31060, 31070, 31080, 31091, 31092, 31101, 31103, 31104,\n",
       "       31110, 31120, 31130, 31140, 31150, 31160, 31170, 31180, 31191,\n",
       "       31192, 31193, 31200, 31210, 31220, 31230, 31240, 31250, 31260,\n",
       "       31270, 31280, 31350, 31370, 31380], dtype=int64)"
      ]
     },
     "execution_count": 109,
     "metadata": {},
     "output_type": "execute_result"
    }
   ],
   "source": [
    "doc_sigun['시군구코드'].unique()"
   ]
  },
  {
   "cell_type": "code",
   "execution_count": 125,
   "metadata": {},
   "outputs": [
    {
     "name": "stdout",
     "output_type": "stream",
     "text": [
      "[11010, 11020, 11030, 11040, 11050, 11060, 11070, 11080, 11090, 11100, 11110, 11120, 11130, 11140, 11150, 11160, 11170, 11180, 11190, 11200, 11210, 11220, 11230, 11240, 11250, 23010, 23020, 23030, 23040, 23050, 23060, 23070, 23080, 23310, 23320, 31011, 31012, 31013, 31014, 31021, 31022, 31023, 31030, 31041, 31042, 31050, 31060, 31070, 31080, 31091, 31092, 31101, 31103, 31104, 31110, 31120, 31130, 31140, 31150, 31160, 31170, 31180, 31191, 31192, 31193, 31200, 31210, 31220, 31230, 31240, 31250, 31260, 31270, 31280, 31350, 31370, 31380]\n"
     ]
    }
   ],
   "source": [
    "a=[]\n",
    "for i in range(doc_sigun['시군구코드'].nunique()):\n",
    "    a.append(doc_sigun['시군구코드'].unique()[i])\n",
    "print(a)"
   ]
  },
  {
   "cell_type": "code",
   "execution_count": 126,
   "metadata": {},
   "outputs": [
    {
     "name": "stdout",
     "output_type": "stream",
     "text": [
      "['종로구', '중구', '용산구', '성동구', '광진구', '동대문구', '중랑구', '성북구', '강북구', '도봉구', '노원구', '은평구', '서대문구', '마포구', '양천구', '강서구', '구로구', '금천구', '영등포구', '동작구', '관악구', '서초구', '강남구', '송파구', '강동구']\n"
     ]
    }
   ],
   "source": [
    "b=[]\n",
    "for i in range(25):\n",
    "    b.append(doc_sigun['시군구명칭'].unique()[i])\n",
    "print(b)"
   ]
  },
  {
   "cell_type": "code",
   "execution_count": 127,
   "metadata": {},
   "outputs": [],
   "source": [
    "# for i in range(26,77):\n",
    "#     a.append(doc_sigun['시군구코드'].unique()[i])\n",
    "# print(a)"
   ]
  },
  {
   "cell_type": "code",
   "execution_count": 128,
   "metadata": {},
   "outputs": [],
   "source": [
    "b.append('인천_중구')"
   ]
  },
  {
   "cell_type": "code",
   "execution_count": 129,
   "metadata": {},
   "outputs": [
    {
     "data": {
      "text/plain": [
       "['종로구',\n",
       " '중구',\n",
       " '용산구',\n",
       " '성동구',\n",
       " '광진구',\n",
       " '동대문구',\n",
       " '중랑구',\n",
       " '성북구',\n",
       " '강북구',\n",
       " '도봉구',\n",
       " '노원구',\n",
       " '은평구',\n",
       " '서대문구',\n",
       " '마포구',\n",
       " '양천구',\n",
       " '강서구',\n",
       " '구로구',\n",
       " '금천구',\n",
       " '영등포구',\n",
       " '동작구',\n",
       " '관악구',\n",
       " '서초구',\n",
       " '강남구',\n",
       " '송파구',\n",
       " '강동구',\n",
       " '인천_중구']"
      ]
     },
     "execution_count": 129,
     "metadata": {},
     "output_type": "execute_result"
    }
   ],
   "source": [
    "b"
   ]
  },
  {
   "cell_type": "code",
   "execution_count": 130,
   "metadata": {},
   "outputs": [
    {
     "name": "stdout",
     "output_type": "stream",
     "text": [
      "['종로구', '중구', '용산구', '성동구', '광진구', '동대문구', '중랑구', '성북구', '강북구', '도봉구', '노원구', '은평구', '서대문구', '마포구', '양천구', '강서구', '구로구', '금천구', '영등포구', '동작구', '관악구', '서초구', '강남구', '송파구', '강동구', '인천_중구', '동구', '남구', '연수구', '남동구', '부평구', '계양구', '서구', '강화군', '옹진군', '수원시 장안구', '수원시 권선구', '수원시 팔달구', '수원시 영통구', '성남시 수정구', '성남시 중원구', '성남시 분당구', '의정부시', '안양시 만안구', '안양시 동안구', '부천시', '광명시', '평택시', '동두천시', '안산시 상록구', '안산시 단원구', '고양시 덕양구', '고양시 일산동구', '고양시 일산서구', '과천시', '구리시', '남양주시', '오산시', '시흥시', '군포시', '의왕시', '하남시', '용인시 처인구', '용인시 기흥구', '용인시 수지구', '파주시', '이천시', '안성시', '김포시', '화성시', '광주시', '양주시', '포천시', '여주시', '연천군', '가평군', '양평군']\n"
     ]
    }
   ],
   "source": [
    "\n",
    "for i in range(25,76):\n",
    "    b.append(doc_sigun['시군구명칭'].unique()[i])\n",
    "print(b)"
   ]
  },
  {
   "cell_type": "code",
   "execution_count": 131,
   "metadata": {},
   "outputs": [
    {
     "data": {
      "text/plain": [
       "77"
      ]
     },
     "execution_count": 131,
     "metadata": {},
     "output_type": "execute_result"
    }
   ],
   "source": [
    "len(b)"
   ]
  },
  {
   "cell_type": "code",
   "execution_count": 133,
   "metadata": {},
   "outputs": [
    {
     "data": {
      "text/plain": [
       "77"
      ]
     },
     "execution_count": 133,
     "metadata": {},
     "output_type": "execute_result"
    }
   ],
   "source": [
    "len(a)"
   ]
  },
  {
   "cell_type": "code",
   "execution_count": 134,
   "metadata": {},
   "outputs": [
    {
     "data": {
      "text/html": [
       "<div>\n",
       "<style scoped>\n",
       "    .dataframe tbody tr th:only-of-type {\n",
       "        vertical-align: middle;\n",
       "    }\n",
       "\n",
       "    .dataframe tbody tr th {\n",
       "        vertical-align: top;\n",
       "    }\n",
       "\n",
       "    .dataframe thead th {\n",
       "        text-align: right;\n",
       "    }\n",
       "</style>\n",
       "<table border=\"1\" class=\"dataframe\">\n",
       "  <thead>\n",
       "    <tr style=\"text-align: right;\">\n",
       "      <th></th>\n",
       "      <th>시군구코드</th>\n",
       "      <th>시군구명칭</th>\n",
       "    </tr>\n",
       "  </thead>\n",
       "  <tbody>\n",
       "    <tr>\n",
       "      <th>0</th>\n",
       "      <td>11010</td>\n",
       "      <td>종로구</td>\n",
       "    </tr>\n",
       "    <tr>\n",
       "      <th>1</th>\n",
       "      <td>11020</td>\n",
       "      <td>중구</td>\n",
       "    </tr>\n",
       "    <tr>\n",
       "      <th>2</th>\n",
       "      <td>11030</td>\n",
       "      <td>용산구</td>\n",
       "    </tr>\n",
       "    <tr>\n",
       "      <th>3</th>\n",
       "      <td>11040</td>\n",
       "      <td>성동구</td>\n",
       "    </tr>\n",
       "    <tr>\n",
       "      <th>4</th>\n",
       "      <td>11050</td>\n",
       "      <td>광진구</td>\n",
       "    </tr>\n",
       "    <tr>\n",
       "      <th>...</th>\n",
       "      <td>...</td>\n",
       "      <td>...</td>\n",
       "    </tr>\n",
       "    <tr>\n",
       "      <th>72</th>\n",
       "      <td>31270</td>\n",
       "      <td>포천시</td>\n",
       "    </tr>\n",
       "    <tr>\n",
       "      <th>73</th>\n",
       "      <td>31280</td>\n",
       "      <td>여주시</td>\n",
       "    </tr>\n",
       "    <tr>\n",
       "      <th>74</th>\n",
       "      <td>31350</td>\n",
       "      <td>연천군</td>\n",
       "    </tr>\n",
       "    <tr>\n",
       "      <th>75</th>\n",
       "      <td>31370</td>\n",
       "      <td>가평군</td>\n",
       "    </tr>\n",
       "    <tr>\n",
       "      <th>76</th>\n",
       "      <td>31380</td>\n",
       "      <td>양평군</td>\n",
       "    </tr>\n",
       "  </tbody>\n",
       "</table>\n",
       "<p>77 rows × 2 columns</p>\n",
       "</div>"
      ],
      "text/plain": [
       "    시군구코드 시군구명칭\n",
       "0   11010   종로구\n",
       "1   11020    중구\n",
       "2   11030   용산구\n",
       "3   11040   성동구\n",
       "4   11050   광진구\n",
       "..    ...   ...\n",
       "72  31270   포천시\n",
       "73  31280   여주시\n",
       "74  31350   연천군\n",
       "75  31370   가평군\n",
       "76  31380   양평군\n",
       "\n",
       "[77 rows x 2 columns]"
      ]
     },
     "execution_count": 134,
     "metadata": {},
     "output_type": "execute_result"
    }
   ],
   "source": [
    "sigun=pd.DataFrame({'시군구코드':a,'시군구명칭':b})\n",
    "sigun"
   ]
  },
  {
   "cell_type": "code",
   "execution_count": 135,
   "metadata": {},
   "outputs": [],
   "source": [
    "for i in range(sigun['시군구코드'].nunique()):\n",
    "    df.loc[df[\"sigungu_code\"] == sigun['시군구코드'].unique()[i] , \"시군구\"] = sigun['시군구명칭'].unique()[i]"
   ]
  },
  {
   "cell_type": "code",
   "execution_count": 137,
   "metadata": {},
   "outputs": [],
   "source": [
    "df=df[(df['시도']=='서울특별시') | (df['시도']=='경기도')| (df['시도']=='인천광역시')]"
   ]
  },
  {
   "cell_type": "code",
   "execution_count": 138,
   "metadata": {},
   "outputs": [
    {
     "data": {
      "text/html": [
       "<div>\n",
       "<style scoped>\n",
       "    .dataframe tbody tr th:only-of-type {\n",
       "        vertical-align: middle;\n",
       "    }\n",
       "\n",
       "    .dataframe tbody tr th {\n",
       "        vertical-align: top;\n",
       "    }\n",
       "\n",
       "    .dataframe thead th {\n",
       "        text-align: right;\n",
       "    }\n",
       "</style>\n",
       "<table border=\"1\" class=\"dataframe\">\n",
       "  <thead>\n",
       "    <tr style=\"text-align: right;\">\n",
       "      <th></th>\n",
       "      <th>sido_code</th>\n",
       "      <th>sigungu_code</th>\n",
       "      <th>emd_code</th>\n",
       "      <th>week_type</th>\n",
       "      <th>TI_CG</th>\n",
       "      <th>시도</th>\n",
       "      <th>시군구</th>\n",
       "    </tr>\n",
       "  </thead>\n",
       "  <tbody>\n",
       "    <tr>\n",
       "      <th>745</th>\n",
       "      <td>11</td>\n",
       "      <td>11110</td>\n",
       "      <td>1111072</td>\n",
       "      <td>weekday</td>\n",
       "      <td>93.28</td>\n",
       "      <td>서울특별시</td>\n",
       "      <td>노원구</td>\n",
       "    </tr>\n",
       "    <tr>\n",
       "      <th>2128</th>\n",
       "      <td>11</td>\n",
       "      <td>11080</td>\n",
       "      <td>1108085</td>\n",
       "      <td>weekday</td>\n",
       "      <td>79.34</td>\n",
       "      <td>서울특별시</td>\n",
       "      <td>성북구</td>\n",
       "    </tr>\n",
       "    <tr>\n",
       "      <th>1279</th>\n",
       "      <td>11</td>\n",
       "      <td>11100</td>\n",
       "      <td>1110065</td>\n",
       "      <td>weekday</td>\n",
       "      <td>66.01</td>\n",
       "      <td>서울특별시</td>\n",
       "      <td>도봉구</td>\n",
       "    </tr>\n",
       "    <tr>\n",
       "      <th>985</th>\n",
       "      <td>11</td>\n",
       "      <td>11100</td>\n",
       "      <td>1110053</td>\n",
       "      <td>weekday</td>\n",
       "      <td>79.33</td>\n",
       "      <td>서울특별시</td>\n",
       "      <td>도봉구</td>\n",
       "    </tr>\n",
       "    <tr>\n",
       "      <th>2132</th>\n",
       "      <td>11</td>\n",
       "      <td>11230</td>\n",
       "      <td>1123075</td>\n",
       "      <td>weekday</td>\n",
       "      <td>78.40</td>\n",
       "      <td>서울특별시</td>\n",
       "      <td>강남구</td>\n",
       "    </tr>\n",
       "    <tr>\n",
       "      <th>...</th>\n",
       "      <td>...</td>\n",
       "      <td>...</td>\n",
       "      <td>...</td>\n",
       "      <td>...</td>\n",
       "      <td>...</td>\n",
       "      <td>...</td>\n",
       "      <td>...</td>\n",
       "    </tr>\n",
       "    <tr>\n",
       "      <th>3206</th>\n",
       "      <td>31</td>\n",
       "      <td>31021</td>\n",
       "      <td>3102160</td>\n",
       "      <td>weekday</td>\n",
       "      <td>47.71</td>\n",
       "      <td>경기도</td>\n",
       "      <td>성남시 수정구</td>\n",
       "    </tr>\n",
       "    <tr>\n",
       "      <th>3208</th>\n",
       "      <td>31</td>\n",
       "      <td>31280</td>\n",
       "      <td>3128033</td>\n",
       "      <td>weekday</td>\n",
       "      <td>29.34</td>\n",
       "      <td>경기도</td>\n",
       "      <td>여주시</td>\n",
       "    </tr>\n",
       "    <tr>\n",
       "      <th>3220</th>\n",
       "      <td>31</td>\n",
       "      <td>31260</td>\n",
       "      <td>3126053</td>\n",
       "      <td>weekday</td>\n",
       "      <td>51.49</td>\n",
       "      <td>경기도</td>\n",
       "      <td>양주시</td>\n",
       "    </tr>\n",
       "    <tr>\n",
       "      <th>3231</th>\n",
       "      <td>31</td>\n",
       "      <td>31110</td>\n",
       "      <td>3111053</td>\n",
       "      <td>weekday</td>\n",
       "      <td>59.63</td>\n",
       "      <td>경기도</td>\n",
       "      <td>과천시</td>\n",
       "    </tr>\n",
       "    <tr>\n",
       "      <th>3199</th>\n",
       "      <td>31</td>\n",
       "      <td>31130</td>\n",
       "      <td>3113054</td>\n",
       "      <td>weekday</td>\n",
       "      <td>52.02</td>\n",
       "      <td>경기도</td>\n",
       "      <td>남양주시</td>\n",
       "    </tr>\n",
       "  </tbody>\n",
       "</table>\n",
       "<p>1129 rows × 7 columns</p>\n",
       "</div>"
      ],
      "text/plain": [
       "      sido_code  sigungu_code  emd_code week_type  TI_CG     시도      시군구\n",
       "745          11         11110   1111072   weekday  93.28  서울특별시      노원구\n",
       "2128         11         11080   1108085   weekday  79.34  서울특별시      성북구\n",
       "1279         11         11100   1110065   weekday  66.01  서울특별시      도봉구\n",
       "985          11         11100   1110053   weekday  79.33  서울특별시      도봉구\n",
       "2132         11         11230   1123075   weekday  78.40  서울특별시      강남구\n",
       "...         ...           ...       ...       ...    ...    ...      ...\n",
       "3206         31         31021   3102160   weekday  47.71    경기도  성남시 수정구\n",
       "3208         31         31280   3128033   weekday  29.34    경기도      여주시\n",
       "3220         31         31260   3126053   weekday  51.49    경기도      양주시\n",
       "3231         31         31110   3111053   weekday  59.63    경기도      과천시\n",
       "3199         31         31130   3113054   weekday  52.02    경기도     남양주시\n",
       "\n",
       "[1129 rows x 7 columns]"
      ]
     },
     "execution_count": 138,
     "metadata": {},
     "output_type": "execute_result"
    }
   ],
   "source": [
    "df"
   ]
  },
  {
   "cell_type": "code",
   "execution_count": 140,
   "metadata": {},
   "outputs": [],
   "source": [
    "df.to_csv('수도권 혼잡시간강도.csv',encoding='utf-8-sig', index=False)"
   ]
  }
 ],
 "metadata": {
  "kernelspec": {
   "display_name": "Python 3",
   "language": "python",
   "name": "python3"
  },
  "language_info": {
   "codemirror_mode": {
    "name": "ipython",
    "version": 3
   },
   "file_extension": ".py",
   "mimetype": "text/x-python",
   "name": "python",
   "nbconvert_exporter": "python",
   "pygments_lexer": "ipython3",
   "version": "3.8.5"
  }
 },
 "nbformat": 4,
 "nbformat_minor": 4
}
